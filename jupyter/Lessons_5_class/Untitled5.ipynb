{
 "cells": [
  {
   "cell_type": "code",
   "execution_count": 2,
   "metadata": {},
   "outputs": [
    {
     "name": "stdout",
     "output_type": "stream",
     "text": [
      "4\n"
     ]
    }
   ],
   "source": [
    "print (input().count('1'))"
   ]
  },
  {
   "cell_type": "code",
   "execution_count": null,
   "metadata": {},
   "outputs": [],
   "source": [
    "def fact (a):\n",
    "    b = 1 \n",
    "    for i in range (1, a+1):\n",
    "        b = b * 1\n",
    "    return b"
   ]
  },
  {
   "cell_type": "code",
   "execution_count": 15,
   "metadata": {},
   "outputs": [
    {
     "name": "stdout",
     "output_type": "stream",
     "text": [
      "--\n",
      "---\n",
      "----\n",
      "-\n",
      "3\n"
     ]
    }
   ],
   "source": [
    "# 5\n",
    "def robo (a):\n",
    "    b = (a.count('1'))\n",
    "    return b\n",
    "def prin (a):\n",
    "    b = '-'*a\n",
    "    return b\n",
    "\n",
    "n = int(input())\n",
    "A = []\n",
    "for i in range (n):\n",
    "    A.append(input())\n",
    "\n",
    "for i in range (n):\n",
    "    A[i]=robo(A[i])\n",
    "for i in range(n):\n",
    "    print (prin(A[i]))\n",
    "a = 0\n",
    "for i in range (n-1):\n",
    "    if A[i]>A[i+1]:\n",
    "        v = i + 1\n",
    "print (v)\n"
   ]
  },
  {
   "cell_type": "code",
   "execution_count": 3,
   "metadata": {},
   "outputs": [
    {
     "name": "stdout",
     "output_type": "stream",
     "text": [
      "2\n",
      "2\n",
      "0\n"
     ]
    }
   ],
   "source": [
    "def robo (a):\n",
    "    b = (a.count('1'))\n",
    "    return b\n",
    "print(robo(input()))\n",
    "print(robo(input()))\n",
    "print(robo(input()))\n"
   ]
  },
  {
   "cell_type": "code",
   "execution_count": null,
   "metadata": {},
   "outputs": [],
   "source": [
    "def robo (a):\n",
    "    b = (a.count('1'))\n",
    "    return b\n",
    "q=(robo(input()))\n",
    "w=(robo(input()))\n",
    "e=(robo(input()))\n",
    "if e < q > w :\n",
    "    print (1)\n",
    "    print (q)\n",
    "elif w < e > q  :\n",
    "    print (3)\n",
    "    print (e)\n",
    "else   :\n",
    "    print (2)\n",
    "    print (w)\n"
   ]
  },
  {
   "cell_type": "code",
   "execution_count": 6,
   "metadata": {},
   "outputs": [
    {
     "name": "stdout",
     "output_type": "stream",
     "text": [
      "3\n",
      "---\n",
      "--\n",
      "-\n"
     ]
    }
   ],
   "source": [
    "def robo (a):\n",
    "    b = (a.count('1'))\n",
    "    return b\n",
    "q=(robo(input()))\n",
    "w=(robo(input()))\n",
    "e=(robo(input()))\n",
    "if e < q > w :\n",
    "    print(1)\n",
    "    print('-'*q)\n",
    "    print('-'*w)\n",
    "    print('-'*e)\n",
    "elif w < e > q  :\n",
    "    print(3)\n",
    "    print('-'*e)\n",
    "    print('-'*w)\n",
    "    print('-'*q)\n",
    "else   :\n",
    "    print(2)\n",
    "    print('-'*w)\n",
    "    print('-'*e)\n",
    "    print('-'*q)\n",
    "   \n"
   ]
  },
  {
   "cell_type": "code",
   "execution_count": null,
   "metadata": {},
   "outputs": [],
   "source": []
  }
 ],
 "metadata": {
  "kernelspec": {
   "display_name": "Python 3",
   "language": "python",
   "name": "python3"
  },
  "language_info": {
   "codemirror_mode": {
    "name": "ipython",
    "version": 3
   },
   "file_extension": ".py",
   "mimetype": "text/x-python",
   "name": "python",
   "nbconvert_exporter": "python",
   "pygments_lexer": "ipython3",
   "version": "3.6.3"
  }
 },
 "nbformat": 4,
 "nbformat_minor": 2
}
