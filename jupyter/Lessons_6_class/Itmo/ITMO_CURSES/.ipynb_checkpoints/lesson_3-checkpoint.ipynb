{
 "cells": [
  {
   "cell_type": "markdown",
   "metadata": {},
   "source": [
    "# [int(elem) for elem in input().split()]\n",
    "# list(map(int, input().split()))\n",
    "\n",
    "# [x * y for x,y in zip(A, B)]"
   ]
  },
  {
   "cell_type": "code",
   "execution_count": 5,
   "metadata": {},
   "outputs": [
    {
     "name": "stdout",
     "output_type": "stream",
     "text": [
      "3 3\n",
      "1 2\n",
      "2 3\n",
      "1 3\n",
      "0 1 1\n",
      "1 0 1\n",
      "1 1 0\n",
      "0 1 1\n",
      "1 0 1\n",
      "1 1 0\n"
     ]
    },
    {
     "data": {
      "text/plain": [
       "[None, None, None]"
      ]
     },
     "execution_count": 5,
     "metadata": {},
     "output_type": "execute_result"
    }
   ],
   "source": [
    "def outp(A):\n",
    "    for row in A:\n",
    "        print(*row)  \n",
    "# [print(*row) for row in A]\n",
    "N, M = [int(elem) for elem in input().split()]\n",
    "G = [[int(elem) - 1 for elem in input().split()] for i in range(M)]\n",
    "NewG = [[0]*N for i in range(N)]\n",
    "for i in range(N):\n",
    "    NewG[G[i][0]][G[i][1]] = 1\n",
    "    NewG[G[i][1]][G[i][0]] = 1\n",
    "outp(NewG)\n",
    "\n",
    "for r in G:\n",
    "    NewG[r[0]][r[1]] = 1\n",
    "    NewG[r[1]][r[0]] = 1\n",
    "outp(NewG)\n",
    "\n",
    "#[print(*row) for row in NewG];"
   ]
  },
  {
   "cell_type": "code",
   "execution_count": 13,
   "metadata": {},
   "outputs": [
    {
     "name": "stdout",
     "output_type": "stream",
     "text": [
      "[2, -4, 34]\n"
     ]
    }
   ],
   "source": [
    "a = [1, 2, -4, 55, 34, 33, 23]\n",
    "#for i in a:\n",
    "#    print(i) if i > 0 else None\n",
    "    \n",
    "aa = [i for i in a if i % 2 == 0]\n",
    "print(aa)"
   ]
  },
  {
   "cell_type": "code",
   "execution_count": 29,
   "metadata": {},
   "outputs": [
    {
     "name": "stdout",
     "output_type": "stream",
     "text": [
      "{8, 1, 3, 4}\n"
     ]
    }
   ],
   "source": [
    "G = {1, 8, 3}\n",
    "for i in list(G):\n",
    "    if i % 2 == 0:\n",
    "        G.add(i//2)\n",
    "print(G)"
   ]
  },
  {
   "cell_type": "code",
   "execution_count": 4,
   "metadata": {},
   "outputs": [
    {
     "name": "stdout",
     "output_type": "stream",
     "text": [
      "4 4 2\n",
      "1 2\n",
      "2 3\n",
      "3 4\n",
      "4 1\n",
      "4\n",
      "2 1 3 4\n"
     ]
    }
   ],
   "source": [
    "N, M, v = [int(elem) for elem in input().split()]\n",
    "G = [[int(elem) - 1 for elem in input().split()] for i in range(M)]\n",
    "NewG = [[0]*N for i in range(N)]\n",
    "SndG = [v-1]\n",
    "\n",
    "for r in G:\n",
    "    NewG[r[0]][r[1]] = 1\n",
    "    NewG[r[1]][r[0]] = 1\n",
    "    \n",
    "for i in SndG:\n",
    "    for j in range(N):\n",
    "        if NewG[i][j] == 1:\n",
    "            if j not in SndG:\n",
    "                SndG.append(j)\n",
    "LastG = [elem + 1 for elem in SndG]\n",
    "\n",
    "print(N)\n",
    "print(*LastG)"
   ]
  },
  {
   "cell_type": "code",
   "execution_count": 3,
   "metadata": {},
   "outputs": [
    {
     "name": "stdout",
     "output_type": "stream",
     "text": [
      "True\n"
     ]
    }
   ],
   "source": [
    "A = [1, 2, 3]\n",
    "print(2 in A)"
   ]
  },
  {
   "cell_type": "code",
   "execution_count": 5,
   "metadata": {},
   "outputs": [
    {
     "name": "stdout",
     "output_type": "stream",
     "text": [
      "3\n",
      "1\n",
      "1\n",
      "1\n",
      "2\n",
      "2 3\n"
     ]
    }
   ],
   "source": [
    "N = int(input())\n",
    "G = [[]] + [[int(elem) - 1 for elem in input().split()] for i in range(N-1)]\n",
    "NewG = [[0]*N for i in range(N)]\n",
    "\n",
    "for i in range (1, N):\n",
    "    for j in G[i]:\n",
    "        NewG[i][j] = 1\n",
    "        NewG[j][i] = 1\n",
    "\n",
    "SndG = [0]\n",
    "for i in SndG:\n",
    "    for j in range(N):\n",
    "        if NewG[i][j] == 1:\n",
    "            if j not in SndG:\n",
    "                SndG.append(j)\n",
    "\n",
    "e = SndG[-1]\n",
    "r = G[e][0]\n",
    "GG = SndG[SndG.index(r)+1:]\n",
    "GG.sort()\n",
    "LastG = [elem + 1 for elem in GG]\n",
    "\n",
    "i = r\n",
    "CountR = 0\n",
    "while i != 1:\n",
    "    CountR += 1\n",
    "    i = G[i-1][0]+1\n",
    "\n",
    "\n",
    "print(CountR)\n",
    "print(len(GG))\n",
    "print(*LastG)"
   ]
  },
  {
   "cell_type": "code",
   "execution_count": 41,
   "metadata": {},
   "outputs": [
    {
     "data": {
      "text/plain": [
       "[6, 1, 4, 3, 5]"
      ]
     },
     "execution_count": 41,
     "metadata": {},
     "output_type": "execute_result"
    }
   ],
   "source": [
    "GG = SndG[SndG.index(r):]\n",
    "GG"
   ]
  },
  {
   "cell_type": "code",
   "execution_count": 25,
   "metadata": {},
   "outputs": [],
   "source": [
    "e = SndG[-1]"
   ]
  },
  {
   "cell_type": "code",
   "execution_count": 34,
   "metadata": {},
   "outputs": [
    {
     "data": {
      "text/plain": [
       "[0, 2, 6, 1, 4, 3, 5]"
      ]
     },
     "execution_count": 34,
     "metadata": {},
     "output_type": "execute_result"
    }
   ],
   "source": [
    "SndG"
   ]
  },
  {
   "cell_type": "code",
   "execution_count": 26,
   "metadata": {},
   "outputs": [
    {
     "data": {
      "text/plain": [
       "[6]"
      ]
     },
     "execution_count": 26,
     "metadata": {},
     "output_type": "execute_result"
    }
   ],
   "source": [
    "G[e]"
   ]
  },
  {
   "cell_type": "code",
   "execution_count": 44,
   "metadata": {},
   "outputs": [
    {
     "data": {
      "text/plain": [
       "[[], [2], [0], [6], [2], [6], [0]]"
      ]
     },
     "execution_count": 44,
     "metadata": {},
     "output_type": "execute_result"
    }
   ],
   "source": [
    "G"
   ]
  },
  {
   "cell_type": "code",
   "execution_count": 2,
   "metadata": {},
   "outputs": [
    {
     "name": "stdout",
     "output_type": "stream",
     "text": [
      "7\n",
      "1\n",
      "2\n"
     ]
    }
   ],
   "source": [
    "i = r\n",
    "CountR = 0\n",
    "while i != 1:\n",
    "    CountR += 1\n",
    "    i = G[i-1][0]+1\n",
    "    \n",
    "print(CountR)"
   ]
  },
  {
   "cell_type": "code",
   "execution_count": 3,
   "metadata": {},
   "outputs": [
    {
     "data": {
      "text/plain": [
       "6"
      ]
     },
     "execution_count": 3,
     "metadata": {},
     "output_type": "execute_result"
    }
   ],
   "source": [
    "r"
   ]
  },
  {
   "cell_type": "code",
   "execution_count": null,
   "metadata": {
    "collapsed": true
   },
   "outputs": [],
   "source": [
    "N = int(input())\n",
    "G = [[]] + [[int(elem) - 1 for elem in input().split()] for i in range(N-1)]\n",
    "NewG = [[0]*N for i in range(N)]\n",
    "\n",
    "for i in range (1, N):\n",
    "    for j in G[i]:\n",
    "        NewG[i][j] = 1\n",
    "        NewG[j][i] = 1\n",
    "\n",
    "SndG = [0]\n",
    "for i in SndG:\n",
    "    for j in range(N):\n",
    "        if NewG[i][j] == 1:\n",
    "            if j not in SndG:\n",
    "                SndG.append(j)\n",
    "\n",
    "e = SndG[-1]\n",
    "r = G[e][0]\n",
    "GG = SndG[SndG.index(r)+1:]\n",
    "GG.sort()\n",
    "LastG = [elem + 1 for elem in GG]\n",
    "\n",
    "i = r\n",
    "j = 0\n",
    "CountR = 0\n",
    "firstTime = 1\n",
    "while j != 0:\n",
    "    CountR += 1\n",
    "    if firstTime == 1:\n",
    "        j = G[i-1][0]+1\n",
    "        firstTime = 0\n",
    "    else:\n",
    "        i = G[j-1][0]+1\n",
    "    firstTime = 0\n",
    "\n",
    "\n",
    "print(CountR)\n",
    "print(len(GG))\n",
    "print(*LastG)"
   ]
  }
 ],
 "metadata": {
  "kernelspec": {
   "display_name": "Python 3",
   "language": "python",
   "name": "python3"
  },
  "language_info": {
   "codemirror_mode": {
    "name": "ipython",
    "version": 3
   },
   "file_extension": ".py",
   "mimetype": "text/x-python",
   "name": "python",
   "nbconvert_exporter": "python",
   "pygments_lexer": "ipython3",
   "version": "3.6.3"
  }
 },
 "nbformat": 4,
 "nbformat_minor": 2
}
