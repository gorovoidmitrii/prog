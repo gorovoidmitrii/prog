{
 "cells": [
  {
   "cell_type": "code",
   "execution_count": 16,
   "metadata": {},
   "outputs": [
    {
     "name": "stdout",
     "output_type": "stream",
     "text": [
      "35423535\n"
     ]
    }
   ],
   "source": [
    "m=0 \n",
    "A=input('введите набор натуральных чисел заканчивающихся нулем').split()\n",
    "for i in range (len(A)):\n",
    "    A[i]=int(A[i])\n",
    "i=0\n",
    "m=A[0]\n",
    "while  A[i] > 0 :\n",
    "    \n",
    "    if m < A[i]:\n",
    "        m = A[i]\n",
    "    i += 1\n",
    "print(m)"
   ]
  },
  {
   "cell_type": "code",
   "execution_count": null,
   "metadata": {},
   "outputs": [],
   "source": [
    "m=0\n",
    "e=0\n",
    "A=input('введите набор натуральных чисел заканчивающихся нулем').split()\n",
    "for i in range (len(A)):\n",
    "    A[i]=int(A[i])\n",
    "i=0\n",
    "m=A[0]\n",
    "while  A[i] < 0 :\n",
    "    \n",
    "    if m > A[i]:\n",
    "        m = A[i]\n",
    "    i += 1\n",
    "for i in range (len(A)):\n",
    "  if A[i]== m:\n",
    "    e += 1\n",
    "print(e)"
   ]
  },
  {
   "cell_type": "code",
   "execution_count": null,
   "metadata": {},
   "outputs": [],
   "source": []
  },
  {
   "cell_type": "code",
   "execution_count": null,
   "metadata": {},
   "outputs": [],
   "source": []
  },
  {
   "cell_type": "code",
   "execution_count": null,
   "metadata": {},
   "outputs": [],
   "source": []
  }
 ],
 "metadata": {
  "kernelspec": {
   "display_name": "Python 3",
   "language": "python",
   "name": "python3"
  },
  "language_info": {
   "codemirror_mode": {
    "name": "ipython",
    "version": 3
   },
   "file_extension": ".py",
   "mimetype": "text/x-python",
   "name": "python",
   "nbconvert_exporter": "python",
   "pygments_lexer": "ipython3",
   "version": "3.6.3"
  }
 },
 "nbformat": 4,
 "nbformat_minor": 2
}
