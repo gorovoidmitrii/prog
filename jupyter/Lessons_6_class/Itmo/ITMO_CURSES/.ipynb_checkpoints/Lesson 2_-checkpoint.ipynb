{
 "cells": [
  {
   "cell_type": "markdown",
   "metadata": {},
   "source": [
    "# [int(elem) for elem in input().split()]"
   ]
  },
  {
   "cell_type": "markdown",
   "metadata": {},
   "source": [
    "# https://contest.yandex.ru/contest/9482/"
   ]
  },
  {
   "cell_type": "code",
   "execution_count": 17,
   "metadata": {},
   "outputs": [
    {
     "name": "stdout",
     "output_type": "stream",
     "text": [
      "3 2\n",
      "1 2\n",
      "2 3\n"
     ]
    },
    {
     "ename": "TypeError",
     "evalue": "'int' object is not subscriptable",
     "output_type": "error",
     "traceback": [
      "\u001b[1;31m---------------------------------------------------------------------------\u001b[0m",
      "\u001b[1;31mTypeError\u001b[0m                                 Traceback (most recent call last)",
      "\u001b[1;32m<ipython-input-17-ced4ef839928>\u001b[0m in \u001b[0;36m<module>\u001b[1;34m()\u001b[0m\n\u001b[0;32m      6\u001b[0m \u001b[0mNewG\u001b[0m \u001b[1;33m=\u001b[0m \u001b[1;33m[\u001b[0m\u001b[1;33m[\u001b[0m\u001b[1;36m0\u001b[0m\u001b[1;33m]\u001b[0m \u001b[1;33m*\u001b[0m \u001b[0mN\u001b[0m \u001b[1;32mfor\u001b[0m \u001b[0mi\u001b[0m \u001b[1;32min\u001b[0m \u001b[0mrange\u001b[0m\u001b[1;33m(\u001b[0m\u001b[0mM\u001b[0m\u001b[1;33m)\u001b[0m\u001b[1;33m]\u001b[0m\u001b[1;33m\u001b[0m\u001b[0m\n\u001b[0;32m      7\u001b[0m \u001b[1;32mfor\u001b[0m \u001b[0mi\u001b[0m \u001b[1;32min\u001b[0m \u001b[0mrange\u001b[0m\u001b[1;33m(\u001b[0m\u001b[0mlen\u001b[0m\u001b[1;33m(\u001b[0m\u001b[0mG\u001b[0m\u001b[1;33m)\u001b[0m\u001b[1;33m)\u001b[0m\u001b[1;33m:\u001b[0m\u001b[1;33m\u001b[0m\u001b[0m\n\u001b[1;32m----> 8\u001b[1;33m     \u001b[0mNewG\u001b[0m\u001b[1;33m[\u001b[0m\u001b[0mi\u001b[0m\u001b[1;33m]\u001b[0m\u001b[1;33m[\u001b[0m\u001b[0mG\u001b[0m\u001b[1;33m[\u001b[0m\u001b[0mi\u001b[0m\u001b[1;33m[\u001b[0m\u001b[1;36m0\u001b[0m\u001b[1;33m]\u001b[0m\u001b[1;33m]\u001b[0m\u001b[1;33m]\u001b[0m \u001b[1;33m=\u001b[0m \u001b[1;36m1\u001b[0m\u001b[1;33m\u001b[0m\u001b[0m\n\u001b[0m\u001b[0;32m      9\u001b[0m     \u001b[0mNewG\u001b[0m\u001b[1;33m[\u001b[0m\u001b[0mi\u001b[0m\u001b[1;33m]\u001b[0m\u001b[1;33m[\u001b[0m\u001b[0mG\u001b[0m\u001b[1;33m[\u001b[0m\u001b[0mi\u001b[0m\u001b[1;33m[\u001b[0m\u001b[1;36m1\u001b[0m\u001b[1;33m]\u001b[0m\u001b[1;33m]\u001b[0m\u001b[1;33m]\u001b[0m \u001b[1;33m=\u001b[0m \u001b[1;36m1\u001b[0m\u001b[1;33m\u001b[0m\u001b[0m\n\u001b[0;32m     10\u001b[0m \u001b[0mprint\u001b[0m\u001b[1;33m(\u001b[0m\u001b[0mNewG\u001b[0m\u001b[1;33m)\u001b[0m\u001b[1;33m\u001b[0m\u001b[0m\n",
      "\u001b[1;31mTypeError\u001b[0m: 'int' object is not subscriptable"
     ]
    }
   ],
   "source": [
    "# недодел \n",
    "\n",
    "N, M = [int(elem) for elem in input().split()]\n",
    "G = [[int(elem) for elem in input().split()] for i in range(M)]\n",
    "\n",
    "NewG = [[0] * N for i in range(M)]\n",
    "\n",
    "for i in range(len(G)):\n",
    "    NewG[i][G[i][0]-1] = 1\n",
    "    NewG[i][G[i][1]-1] = 1\n",
    "for i in range(len(NewG[0])):\n",
    "    print(NewG[0][i], NewG[1][i])\n",
    "    \n"
   ]
  },
  {
   "cell_type": "code",
   "execution_count": null,
   "metadata": {
    "collapsed": true
   },
   "outputs": [],
   "source": [
    "a, b = [int(elem) for elem in input().split()]\n",
    "\n",
    "if a - b == 1:\n",
    "\tprint('YES')\n",
    "else:\n",
    "\tprint('NO')"
   ]
  },
  {
   "cell_type": "code",
   "execution_count": 9,
   "metadata": {},
   "outputs": [
    {
     "name": "stdout",
     "output_type": "stream",
     "text": [
      "7 10\n",
      "5 1\n",
      "3 2\n",
      "7 1\n",
      "5 2\n",
      "7 4\n",
      "6 5\n",
      "6 4\n",
      "7 5\n",
      "2 1\n",
      "5 3\n",
      "3 3 2 2 5 2 3 "
     ]
    }
   ],
   "source": [
    "#сумма степеней вершин\n",
    "\n",
    "\n",
    "N, M = [int(elem) for elem in input().split()]\n",
    "G = []\n",
    "for i in range(M):\n",
    "    c, d = [int(elem) for elem in input().split()]\n",
    "    G.append(c)\n",
    "    G.append(d)\n",
    "for i in range(N):\n",
    "    print(G.count(i+1),end=' ')\n"
   ]
  },
  {
   "cell_type": "code",
   "execution_count": 14,
   "metadata": {},
   "outputs": [
    {
     "name": "stdout",
     "output_type": "stream",
     "text": [
      "5\n",
      "0 1 0 0 0\n",
      "1 0 1 1 0\n",
      "0 1 0 0 0\n",
      "0 1 0 0 0 0\n",
      "0 0 0 0 0\n",
      "3\n"
     ]
    }
   ],
   "source": [
    "#кол-во ребер\n",
    "\n",
    "\n",
    "N = int(input())\n",
    "G = []\n",
    "summ = 0\n",
    "for i in range(N):\n",
    "    c = [int(elem) for elem in input().split()]\n",
    "    G.append(c)\n",
    "for i in range(N):\n",
    "    summ += sum(G[i])\n",
    "print(summ//2)\n",
    "        "
   ]
  },
  {
   "cell_type": "code",
   "execution_count": null,
   "metadata": {
    "collapsed": true
   },
   "outputs": [],
   "source": [
    "N, M = [int(elem) for elem in input().split()]\n",
    "G = []\n",
    "for i in range(M):\n",
    "    c = [int(elem) for elem in input().split()]\n",
    "    G.append(c)"
   ]
  },
  {
   "cell_type": "code",
   "execution_count": null,
   "metadata": {
    "collapsed": true
   },
   "outputs": [],
   "source": [
    "N, M = [int(elem) for elem in input().split()]\n",
    "v = 1\n",
    "G = [[int(elem) - 1 for elem in input().split()] for i in range(M)]\n",
    "NewG = [[0]*N for i in range(N)]\n",
    "SndG = [v-1]\n",
    "\n",
    "for r in G:\n",
    "    NewG[r[0]][r[1]] = 1\n",
    "    NewG[r[1]][r[0]] = 1\n",
    "    \n",
    "for i in SndG:\n",
    "    for j in range(N):\n",
    "        if NewG[i][j] == 1:\n",
    "            if j not in SndG:\n",
    "                SndG.append(j)\n",
    "LastG = [elem + 1 for elem in SndG]\n",
    "\n"
   ]
  }
 ],
 "metadata": {
  "kernelspec": {
   "display_name": "Python 3",
   "language": "python",
   "name": "python3"
  },
  "language_info": {
   "codemirror_mode": {
    "name": "ipython",
    "version": 3
   },
   "file_extension": ".py",
   "mimetype": "text/x-python",
   "name": "python",
   "nbconvert_exporter": "python",
   "pygments_lexer": "ipython3",
   "version": "3.6.3"
  }
 },
 "nbformat": 4,
 "nbformat_minor": 2
}
