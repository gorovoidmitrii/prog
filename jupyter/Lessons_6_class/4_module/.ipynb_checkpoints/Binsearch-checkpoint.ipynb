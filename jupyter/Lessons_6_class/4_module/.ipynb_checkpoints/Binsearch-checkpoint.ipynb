{
 "cells": [
  {
   "cell_type": "code",
   "execution_count": 1,
   "metadata": {
    "collapsed": true
   },
   "outputs": [],
   "source": [
    "def binsearch(A, key):\n",
    "    r = len(A)\n",
    "    l = -1\n",
    "     \n",
    "    while r - l > 1:\n",
    "        m = (l + r) // 2\n",
    "        if A[m] == key:\n",
    "            return m\n",
    "        else:\n",
    "            if A[m] > key:\n",
    "                r = m\n",
    "            else:\n",
    "                l = m"
   ]
  },
  {
   "cell_type": "code",
   "execution_count": 4,
   "metadata": {},
   "outputs": [
    {
     "name": "stdout",
     "output_type": "stream",
     "text": [
      "0\n",
      "1\n",
      "2\n",
      "3\n",
      "4\n",
      "5\n",
      "6\n",
      "7\n",
      "8\n"
     ]
    }
   ],
   "source": [
    "A = list(range(9))\n",
    "for key in A:\n",
    "    print(binsearch(A, key))"
   ]
  },
  {
   "cell_type": "code",
   "execution_count": 5,
   "metadata": {
    "collapsed": true
   },
   "outputs": [],
   "source": [
    "def leftsearch(A, key):\n",
    "    r = len(A)\n",
    "    l = -1\n",
    "     \n",
    "    while r - l >= 1:\n",
    "        m = (l + r) // 2\n",
    "        if A[m] < key:\n",
    "            l = m\n",
    "        else:\n",
    "            r = m\n",
    "    "
   ]
  },
  {
   "cell_type": "code",
   "execution_count": null,
   "metadata": {
    "collapsed": true
   },
   "outputs": [],
   "source": []
  }
 ],
 "metadata": {
  "kernelspec": {
   "display_name": "Python 3",
   "language": "python",
   "name": "python3"
  },
  "language_info": {
   "codemirror_mode": {
    "name": "ipython",
    "version": 3
   },
   "file_extension": ".py",
   "mimetype": "text/x-python",
   "name": "python",
   "nbconvert_exporter": "python",
   "pygments_lexer": "ipython3",
   "version": "3.6.3"
  }
 },
 "nbformat": 4,
 "nbformat_minor": 2
}
