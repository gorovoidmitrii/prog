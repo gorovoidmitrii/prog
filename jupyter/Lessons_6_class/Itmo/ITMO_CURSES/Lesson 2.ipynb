{
 "cells": [
  {
   "cell_type": "markdown",
   "metadata": {},
   "source": [
    "# [int(elem) for elem in input().split()]"
   ]
  },
  {
   "cell_type": "markdown",
   "metadata": {},
   "source": [
    "# https://contest.yandex.ru/contest/9482/"
   ]
  },
  {
   "cell_type": "code",
   "execution_count": 22,
   "metadata": {},
   "outputs": [
    {
     "name": "stdout",
     "output_type": "stream",
     "text": [
      "3 2\n",
      "1 2\n",
      "2 3\n",
      "1 0\n",
      "1 1\n",
      "0 1\n"
     ]
    }
   ],
   "source": [
    "N, M = [int(elem) for elem in input().split()]\n",
    "G = [[int(elem)-1 for elem in input().split()] for i in range(M)]\n",
    "\n",
    "NewG = [[0] * M for i in range(N)]\n",
    "\n",
    "for i in range(len(G)):\n",
    "    NewG[G[i][0]][i] = 1\n",
    "    NewG[G[i][1]][i] = 1\n",
    "[print(*row) for row in NewG];"
   ]
  },
  {
   "cell_type": "code",
   "execution_count": 19,
   "metadata": {},
   "outputs": [
    {
     "name": "stdout",
     "output_type": "stream",
     "text": [
      "1 2\n",
      "2 3\n",
      "3 4\n"
     ]
    }
   ],
   "source": [
    "[print(i,j) for i,j in zip([1,2,3],[2,3,4])];"
   ]
  },
  {
   "cell_type": "code",
   "execution_count": 6,
   "metadata": {},
   "outputs": [
    {
     "name": "stdout",
     "output_type": "stream",
     "text": [
      "\n"
     ]
    },
    {
     "ename": "ValueError",
     "evalue": "not enough values to unpack (expected 2, got 0)",
     "output_type": "error",
     "traceback": [
      "\u001b[1;31m---------------------------------------------------------------------------\u001b[0m",
      "\u001b[1;31mValueError\u001b[0m                                Traceback (most recent call last)",
      "\u001b[1;32m<ipython-input-6-fc59a507b5ca>\u001b[0m in \u001b[0;36m<module>\u001b[1;34m()\u001b[0m\n\u001b[1;32m----> 1\u001b[1;33m \u001b[0ma\u001b[0m\u001b[1;33m,\u001b[0m \u001b[0mb\u001b[0m \u001b[1;33m=\u001b[0m \u001b[1;33m[\u001b[0m\u001b[0mint\u001b[0m\u001b[1;33m(\u001b[0m\u001b[0melem\u001b[0m\u001b[1;33m)\u001b[0m \u001b[1;32mfor\u001b[0m \u001b[0melem\u001b[0m \u001b[1;32min\u001b[0m \u001b[0minput\u001b[0m\u001b[1;33m(\u001b[0m\u001b[1;33m)\u001b[0m\u001b[1;33m.\u001b[0m\u001b[0msplit\u001b[0m\u001b[1;33m(\u001b[0m\u001b[1;33m)\u001b[0m\u001b[1;33m]\u001b[0m\u001b[1;33m\u001b[0m\u001b[0m\n\u001b[0m\u001b[0;32m      2\u001b[0m \u001b[1;33m\u001b[0m\u001b[0m\n\u001b[0;32m      3\u001b[0m \u001b[1;32mif\u001b[0m \u001b[0ma\u001b[0m \u001b[1;33m-\u001b[0m \u001b[0mb\u001b[0m \u001b[1;33m==\u001b[0m \u001b[1;36m1\u001b[0m\u001b[1;33m:\u001b[0m\u001b[1;33m\u001b[0m\u001b[0m\n\u001b[0;32m      4\u001b[0m         \u001b[0mprint\u001b[0m\u001b[1;33m(\u001b[0m\u001b[1;34m'YES'\u001b[0m\u001b[1;33m)\u001b[0m\u001b[1;33m\u001b[0m\u001b[0m\n\u001b[0;32m      5\u001b[0m \u001b[1;32melse\u001b[0m\u001b[1;33m:\u001b[0m\u001b[1;33m\u001b[0m\u001b[0m\n",
      "\u001b[1;31mValueError\u001b[0m: not enough values to unpack (expected 2, got 0)"
     ]
    }
   ],
   "source": [
    "a, b = [int(elem) for elem in input().split()]\n",
    "\n",
    "if a - b == 1:\n",
    "\tprint('YES')\n",
    "else:\n",
    "\tprint('NO')"
   ]
  },
  {
   "cell_type": "code",
   "execution_count": 9,
   "metadata": {},
   "outputs": [
    {
     "name": "stdout",
     "output_type": "stream",
     "text": [
      "7 10\n",
      "5 1\n",
      "3 2\n",
      "7 1\n",
      "5 2\n",
      "7 4\n",
      "6 5\n",
      "6 4\n",
      "7 5\n",
      "2 1\n",
      "5 3\n",
      "3 3 2 2 5 2 3 "
     ]
    }
   ],
   "source": [
    "#сумма степеней вершин\n",
    "\n",
    "\n",
    "N, M = [int(elem) for elem in input().split()]\n",
    "G = []\n",
    "for i in range(M):\n",
    "    c, d = [int(elem) for elem in input().split()]\n",
    "    G.append(c)\n",
    "    G.append(d)\n",
    "for i in range(N):\n",
    "    print(G.count(i+1),end=' ')\n"
   ]
  },
  {
   "cell_type": "code",
   "execution_count": 14,
   "metadata": {},
   "outputs": [
    {
     "name": "stdout",
     "output_type": "stream",
     "text": [
      "5\n",
      "0 1 0 0 0\n",
      "1 0 1 1 0\n",
      "0 1 0 0 0\n",
      "0 1 0 0 0 0\n",
      "0 0 0 0 0\n",
      "3\n"
     ]
    }
   ],
   "source": [
    "#кол-во ребер\n",
    "\n",
    "\n",
    "N = int(input())\n",
    "G = []\n",
    "summ = 0\n",
    "for i in range(N):\n",
    "    c = [int(elem) for elem in input().split()]\n",
    "    G.append(c)\n",
    "for i in range(N):\n",
    "    summ += sum(G[i])\n",
    "print(summ//2)\n",
    "        "
   ]
  },
  {
   "cell_type": "code",
   "execution_count": null,
   "metadata": {
    "collapsed": true
   },
   "outputs": [],
   "source": [
    "N, M = [int(elem) for elem in input().split()]\n",
    "G = []\n",
    "for i in range(M):\n",
    "    c = [int(elem) for elem in input().split()]\n",
    "    G.append(c)"
   ]
  }
 ],
 "metadata": {
  "kernelspec": {
   "display_name": "Python 3",
   "language": "python",
   "name": "python3"
  },
  "language_info": {
   "codemirror_mode": {
    "name": "ipython",
    "version": 3
   },
   "file_extension": ".py",
   "mimetype": "text/x-python",
   "name": "python",
   "nbconvert_exporter": "python",
   "pygments_lexer": "ipython3",
   "version": "3.6.3"
  }
 },
 "nbformat": 4,
 "nbformat_minor": 2
}
