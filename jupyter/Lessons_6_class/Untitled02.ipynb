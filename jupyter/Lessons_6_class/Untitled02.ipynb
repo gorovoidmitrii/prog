{
 "cells": [
  {
   "cell_type": "code",
   "execution_count": 12,
   "metadata": {},
   "outputs": [
    {
     "name": "stdout",
     "output_type": "stream",
     "text": [
      "[3, 3, 2, 1]\n",
      "[1001, 1001, 1001, 1001]\n",
      "[1, 2, 3, 3]\n",
      "1\n",
      "6\n",
      "x =  5\n",
      "2\n",
      "6\n",
      "3\n",
      "6\n",
      "4\n",
      "6\n",
      "x =  2\n",
      "[0, 2, 3, 3]\n",
      "8\n"
     ]
    }
   ],
   "source": [
    "a = int(input()) \n",
    "B = []\n",
    "C = []\n",
    "x=0\n",
    "summ = 0\n",
    "for i in range (a):\n",
    "    B.append(int(input()))\n",
    "print(B)\n",
    "for i in range (len(B)):\n",
    "    if min(B) < 1001:\n",
    "        C.append(min(B))\n",
    "        r = B.index(C[i])\n",
    "        B[r] = 1001\n",
    "print(B)\n",
    "print (C)\n",
    "for i in range (len(C)):\n",
    "    print(i+1)\n",
    "    print((len(C)//3+1)*3)\n",
    "    if i % 3 == 0:\n",
    "        x=(len(C)//3+1)*3 - (i+1)\n",
    "        print ('x = ',x)\n",
    "        if  x > 2  :\n",
    "            \n",
    "    \n",
    "            C[i] = 0\n",
    "        else:\n",
    "            pass\n",
    "for i in range (len(C)):\n",
    "    summ = summ+C[i]\n",
    "print(C)\n",
    "print(summ)\n",
    "\n",
    "    \n"
   ]
  },
  {
   "cell_type": "code",
   "execution_count": null,
   "metadata": {},
   "outputs": [],
   "source": [
    "a = int(input()) \n",
    "B = []\n",
    "C = []\n",
    "x=0\n",
    "summ = 0\n",
    "for i in range (a):\n",
    "    B.append(int(input()))\n",
    "print(B)\n",
    "x=(len(B)//3)*3\n",
    "for i in range (len(B)):\n",
    "    if min(B) < 1001:\n",
    "        C.append(min(B))\n",
    "        r = B.index(C[i])\n",
    "        B[r] = 1001\n",
    "print(B)\n",
    "print (C)\n",
    "for i in range (len(C)):\n",
    "    \n",
    "    if i % 3 == 0:\n",
    "        print (x,i)\n",
    "        if x > i+1:\n",
    "            \n",
    "            C[i] = 0\n",
    "    else:\n",
    "        pass\n",
    "for i in range (len(C)):\n",
    "    summ = summ+C[i]\n",
    "print(C)\n",
    "print(summ)"
   ]
  },
  {
   "cell_type": "code",
   "execution_count": null,
   "metadata": {},
   "outputs": [],
   "source": []
  },
  {
   "cell_type": "code",
   "execution_count": null,
   "metadata": {},
   "outputs": [],
   "source": []
  },
  {
   "cell_type": "code",
   "execution_count": null,
   "metadata": {},
   "outputs": [],
   "source": []
  }
 ],
 "metadata": {
  "kernelspec": {
   "display_name": "Python 3",
   "language": "python",
   "name": "python3"
  },
  "language_info": {
   "codemirror_mode": {
    "name": "ipython",
    "version": 3
   },
   "file_extension": ".py",
   "mimetype": "text/x-python",
   "name": "python",
   "nbconvert_exporter": "python",
   "pygments_lexer": "ipython3",
   "version": "3.6.3"
  }
 },
 "nbformat": 4,
 "nbformat_minor": 2
}
