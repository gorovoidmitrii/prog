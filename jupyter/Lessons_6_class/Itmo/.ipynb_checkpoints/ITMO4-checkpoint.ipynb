{
 "cells": [
  {
   "cell_type": "code",
   "execution_count": 1,
   "metadata": {},
   "outputs": [
    {
     "name": "stdout",
     "output_type": "stream",
     "text": [
      "1000000000000 2 3 4 5\n",
      "1184210526314\n"
     ]
    }
   ],
   "source": [
    "def NOD (x, y):\n",
    "    if y :\n",
    "        return NOD(y, x%y)\n",
    "    else:\n",
    "        return x\n",
    "\n",
    "\n",
    "n, a, b, c, d = [int(elem) for elem in input().split()]\n",
    "ACount = 0\n",
    "BCount = 0\n",
    "CCount = 0\n",
    "DCount = 0\n",
    "BugsCount = 0\n",
    "SecondBugsCount=0\n",
    "FirstPrWorking = 1\n",
    "SecondPrWorking = 1\n",
    "HoursCount=0\n",
    "NSum= NOD(a+b,c+d)\n",
    "NSum= (a+b)*(c+d)//NSum\n",
    "\n",
    "if NSum<n:\n",
    "    HC=n//(NSum*a//(a+b)+NSum*c//(c+d))\n",
    "    SecondBugsCount = HC*(NSum*a//(a+b)+NSum*c//(c+d))\n",
    "    n=n-SecondBugsCount\n",
    "    HoursCount= HC*NSum\n",
    "\n",
    "\n",
    "while BugsCount < n:\n",
    "    HoursCount += 1\n",
    "    if FirstPrWorking == 1:\n",
    "        if ACount < a: \n",
    "            BugsCount += 1\n",
    "            ACount += 1\n",
    "        else:\n",
    "            ACount = 0\n",
    "            BCount += 1\n",
    "            FirstPrWorking = 0\n",
    "    else:\n",
    "        if BCount < b: \n",
    "            BCount += 1\n",
    "        else:\n",
    "            BCount = 0\n",
    "            BugsCount += 1\n",
    "            ACount += 1\n",
    "            FirstPrWorking = 1\n",
    "            \n",
    "            \n",
    "            \n",
    "    if SecondPrWorking == 1:\n",
    "        if CCount < c: \n",
    "            BugsCount += 1\n",
    "            CCount += 1\n",
    "        else:\n",
    "            CCount = 0\n",
    "            DCount += 1 \n",
    "            SecondPrWorking = 0\n",
    "    else:\n",
    "        if DCount < d: \n",
    "            DCount += 1\n",
    "        else:\n",
    "            DCount = 0\n",
    "            BugsCount += 1 \n",
    "            CCount += 1\n",
    "            SecondPrWorking = 1\n",
    "\n",
    "print(HoursCount)    \n",
    "       "
   ]
  },
  {
   "cell_type": "code",
   "execution_count": null,
   "metadata": {
    "collapsed": true
   },
   "outputs": [],
   "source": []
  }
 ],
 "metadata": {
  "kernelspec": {
   "display_name": "Python 3",
   "language": "python",
   "name": "python3"
  },
  "language_info": {
   "codemirror_mode": {
    "name": "ipython",
    "version": 3
   },
   "file_extension": ".py",
   "mimetype": "text/x-python",
   "name": "python",
   "nbconvert_exporter": "python",
   "pygments_lexer": "ipython3",
   "version": "3.6.3"
  }
 },
 "nbformat": 4,
 "nbformat_minor": 2
}
