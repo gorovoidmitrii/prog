{
 "cells": [
  {
   "cell_type": "code",
   "execution_count": 14,
   "metadata": {},
   "outputs": [
    {
     "ename": "SyntaxError",
     "evalue": "invalid syntax (<ipython-input-14-5b1dbb95f0db>, line 5)",
     "output_type": "error",
     "traceback": [
      "\u001b[1;36m  File \u001b[1;32m\"<ipython-input-14-5b1dbb95f0db>\"\u001b[1;36m, line \u001b[1;32m5\u001b[0m\n\u001b[1;33m    for i in range ()\u001b[0m\n\u001b[1;37m                     ^\u001b[0m\n\u001b[1;31mSyntaxError\u001b[0m\u001b[1;31m:\u001b[0m invalid syntax\n"
     ]
    }
   ],
   "source": [
    "B = input()\n",
    "A = []\n",
    "for i in range(len(B)):\n",
    "    A.append(B[i])\n",
    "for i in range()\n"
   ]
  },
  {
   "cell_type": "code",
   "execution_count": 13,
   "metadata": {},
   "outputs": [
    {
     "name": "stdout",
     "output_type": "stream",
     "text": [
      "3\n",
      "1\n",
      "2\n",
      "2\n",
      "1\n",
      "3\n"
     ]
    }
   ],
   "source": [
    "N = int(input())\n",
    "G = [[int(elem) - 1 for elem in input().split()] for i in range(N-1)]\n",
    "if len(G):\n",
    "    NewG = [[0]*N for i in range(N)]\n",
    "    Numbers = [0]\n",
    "    for i in range (1, N):\n",
    "        for j in G[i-1]:\n",
    "            NewG[i-1][j-1] = 1\n",
    "            NewG[j-1][i-1] = 1\n",
    "    \n",
    "    SndG = [0]\n",
    "    for i in SndG:\n",
    "        for j in range(N):\n",
    "            if NewG[i][j] == 1:\n",
    "                if j not in SndG:\n",
    "                    SndG.append(j)\n",
    "                    Numbers.append(Numbers.index(G[j-1][0])+1)\n",
    "\n",
    "    e = SndG[-1]\n",
    "    r = G[e-1][0]\n",
    "    GG = SndG[SndG.index(r)+1:]\n",
    "    GG.sort()\n",
    "    LastG = [elem + 1 for elem in GG]\n",
    "\n",
    "\n",
    "\n",
    "    print(max(Numbers))\n",
    "    print(len(GG))\n",
    "    print(*LastG)\n",
    "else:\n",
    "    print(0)\n",
    "    print(1)\n",
    "    print(1)"
   ]
  },
  {
   "cell_type": "code",
   "execution_count": 11,
   "metadata": {},
   "outputs": [
    {
     "name": "stdout",
     "output_type": "stream",
     "text": [
      "3\n",
      "0 1 1\n",
      "1 0 1\n",
      "1 1 0\n"
     ]
    }
   ],
   "source": [
    "N = int(input())\n",
    "NewG = [[0]*N for i in range(N)]\n",
    "for i in range(N):\n",
    "    NewG.append([int(j) for j in input().split()])    \n",
    "for i in range(N):\n",
    "    for j in range(N):\n",
    "        if NewG[i][j] == 1:\n",
    "            print(i+1, j+1)\n",
    "            NewG[j][i] = 0\n",
    "            \n",
    "        "
   ]
  },
  {
   "cell_type": "code",
   "execution_count": 15,
   "metadata": {},
   "outputs": [
    {
     "name": "stdout",
     "output_type": "stream",
     "text": [
      "7 18\n",
      "25 2 6\n",
      "4\n"
     ]
    }
   ],
   "source": [
    "w, p = [int(elem) for elem in input().split()]\n",
    "n, a, b = [int(elem) for elem in input().split()]\n",
    "\n",
    "s = (w // a) * (p // b)\n",
    "if w >= a and p >= b:\n",
    "    r = 0 if n % s == 0 else 1\n",
    "    result = n // s + r\n",
    "else:\n",
    "    result = -1\n",
    "    \n",
    "print(result)\n",
    "\n"
   ]
  },
  {
   "cell_type": "code",
   "execution_count": 50,
   "metadata": {},
   "outputs": [
    {
     "data": {
      "text/plain": [
       "[[0], [0], [1]]"
      ]
     },
     "execution_count": 50,
     "metadata": {},
     "output_type": "execute_result"
    }
   ],
   "source": [
    "G"
   ]
  },
  {
   "cell_type": "code",
   "execution_count": 3,
   "metadata": {},
   "outputs": [
    {
     "data": {
      "text/plain": [
       "[0, 1, 2]"
      ]
     },
     "execution_count": 3,
     "metadata": {},
     "output_type": "execute_result"
    }
   ],
   "source": [
    "Numbers"
   ]
  },
  {
   "cell_type": "code",
   "execution_count": 17,
   "metadata": {},
   "outputs": [
    {
     "data": {
      "text/plain": [
       "[]"
      ]
     },
     "execution_count": 17,
     "metadata": {},
     "output_type": "execute_result"
    }
   ],
   "source": [
    "G[j-1]"
   ]
  },
  {
   "cell_type": "code",
   "execution_count": 18,
   "metadata": {},
   "outputs": [
    {
     "data": {
      "text/plain": [
       "[0]"
      ]
     },
     "execution_count": 18,
     "metadata": {},
     "output_type": "execute_result"
    }
   ],
   "source": [
    "G[j]"
   ]
  },
  {
   "cell_type": "code",
   "execution_count": 19,
   "metadata": {},
   "outputs": [
    {
     "data": {
      "text/plain": [
       "1"
      ]
     },
     "execution_count": 19,
     "metadata": {},
     "output_type": "execute_result"
    }
   ],
   "source": [
    "j"
   ]
  },
  {
   "cell_type": "code",
   "execution_count": 34,
   "metadata": {},
   "outputs": [
    {
     "data": {
      "text/plain": [
       "[0]"
      ]
     },
     "execution_count": 34,
     "metadata": {},
     "output_type": "execute_result"
    }
   ],
   "source": [
    "G[j-1]"
   ]
  },
  {
   "cell_type": "code",
   "execution_count": 49,
   "metadata": {},
   "outputs": [
    {
     "data": {
      "text/plain": [
       "0"
      ]
     },
     "execution_count": 49,
     "metadata": {},
     "output_type": "execute_result"
    }
   ],
   "source": [
    "Numbers.index(G[j-1][0])"
   ]
  },
  {
   "cell_type": "code",
   "execution_count": 36,
   "metadata": {},
   "outputs": [
    {
     "data": {
      "text/plain": [
       "[0]"
      ]
     },
     "execution_count": 36,
     "metadata": {},
     "output_type": "execute_result"
    }
   ],
   "source": [
    "G[j-1]"
   ]
  },
  {
   "cell_type": "code",
   "execution_count": 6,
   "metadata": {},
   "outputs": [
    {
     "name": "stdout",
     "output_type": "stream",
     "text": [
      "123\n"
     ]
    },
    {
     "data": {
      "text/plain": [
       "['1', '2', '3']"
      ]
     },
     "execution_count": 6,
     "metadata": {},
     "output_type": "execute_result"
    }
   ],
   "source": []
  },
  {
   "cell_type": "code",
   "execution_count": 16,
   "metadata": {},
   "outputs": [
    {
     "ename": "IndentationError",
     "evalue": "expected an indented block (<ipython-input-16-8db268a31717>, line 19)",
     "output_type": "error",
     "traceback": [
      "\u001b[1;36m  File \u001b[1;32m\"<ipython-input-16-8db268a31717>\"\u001b[1;36m, line \u001b[1;32m19\u001b[0m\n\u001b[1;33m    flagS = 1\u001b[0m\n\u001b[1;37m    ^\u001b[0m\n\u001b[1;31mIndentationError\u001b[0m\u001b[1;31m:\u001b[0m expected an indented block\n"
     ]
    }
   ],
   "source": [
    "a = list(input())\n",
    "s = []\n",
    "os = ['(', '[', '{']\n",
    "cs = [')', ']', '}']\n",
    "flagS = 0\n",
    "for i in a:\n",
    "    if i in os:\n",
    "        s.append(i)\n",
    "    elif len(s) == 0:\n",
    "        flagS = 1\n",
    "        break\n",
    "    elif cs.index(i) == os.index(s[-1]):\n",
    "        s.pop()\n",
    "    else:\n",
    "        flagS = 1\n",
    "        break\n",
    "\n",
    "if len(s) != 0:\n",
    "    flagS = 1\n",
    "\n",
    "if flagS == 1:\n",
    "    print('NO')\n",
    "else:\n",
    "    print('YES')\n"
   ]
  },
  {
   "cell_type": "code",
   "execution_count": null,
   "metadata": {
    "collapsed": true
   },
   "outputs": [],
   "source": []
  },
  {
   "cell_type": "code",
   "execution_count": null,
   "metadata": {
    "collapsed": true
   },
   "outputs": [],
   "source": []
  }
 ],
 "metadata": {
  "kernelspec": {
   "display_name": "Python 3",
   "language": "python",
   "name": "python3"
  },
  "language_info": {
   "codemirror_mode": {
    "name": "ipython",
    "version": 3
   },
   "file_extension": ".py",
   "mimetype": "text/x-python",
   "name": "python",
   "nbconvert_exporter": "python",
   "pygments_lexer": "ipython3",
   "version": "3.6.3"
  }
 },
 "nbformat": 4,
 "nbformat_minor": 2
}
