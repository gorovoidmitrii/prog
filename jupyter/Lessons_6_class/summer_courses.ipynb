{
 "cells": [
  {
   "cell_type": "code",
   "execution_count": 3,
   "metadata": {
    "collapsed": true
   },
   "outputs": [],
   "source": [
    "def prost(a):\n",
    "    for i in range (a):\n",
    "        if a%(1+i)==0:\n",
    "            print (1+i)\n",
    "prost(0)"
   ]
  },
  {
   "cell_type": "code",
   "execution_count": null,
   "metadata": {
    "collapsed": true
   },
   "outputs": [],
   "source": [
    "def fact (a):\n",
    "    e = 1\n",
    "    for i in range(a):\n",
    "        e = e*(i+1)\n",
    "    return e\n",
    "print(fact(5))"
   ]
  },
  {
   "cell_type": "code",
   "execution_count": 43,
   "metadata": {},
   "outputs": [
    {
     "name": "stdout",
     "output_type": "stream",
     "text": [
      "93326215443944152681699238856266700490715968264381621468592963895217599993229915608941463976156518286253697920827223758251185210916864000000000000000000000000\n"
     ]
    }
   ],
   "source": [
    "# Для натуральных и нуля\n",
    "def fact (a):\n",
    "    if a:    \n",
    "        return a * fact (a - 1)\n",
    "    else:\n",
    "        return 1\n",
    "print(fact(100))"
   ]
  },
  {
   "cell_type": "code",
   "execution_count": 2,
   "metadata": {},
   "outputs": [
    {
     "name": "stdout",
     "output_type": "stream",
     "text": [
      "Error\n"
     ]
    }
   ],
   "source": [
    "def fact (a):\n",
    "    if a > 0:    \n",
    "        return a * fact (a - 1)\n",
    "    elif a == 0:\n",
    "        return 1\n",
    "    else:\n",
    "        return 'Error'\n",
    "print(fact(-1))"
   ]
  },
  {
   "cell_type": "code",
   "execution_count": 3,
   "metadata": {},
   "outputs": [
    {
     "name": "stdout",
     "output_type": "stream",
     "text": [
      "24\n"
     ]
    }
   ],
   "source": [
    "def hmz(n):\n",
    "    h = str((n))\n",
    "    cou = 0\n",
    "    while h[-1-cou] == '0':\n",
    "        cou = cou+1\n",
    "    return cou\n",
    "print(hmz(fact(100)))\n"
   ]
  },
  {
   "cell_type": "code",
   "execution_count": 8,
   "metadata": {},
   "outputs": [
    {
     "name": "stdout",
     "output_type": "stream",
     "text": [
      "2\n"
     ]
    }
   ],
   "source": [
    "def hmz(n):\n",
    "    return ''.join(['0' if s == '0' else '1' for s in str(n)])[::-1].find('1')\n",
    "print(hmz(100))"
   ]
  },
  {
   "cell_type": "code",
   "execution_count": 6,
   "metadata": {},
   "outputs": [
    {
     "data": {
      "text/plain": [
       "24"
      ]
     },
     "execution_count": 6,
     "metadata": {},
     "output_type": "execute_result"
    }
   ],
   "source": []
  },
  {
   "cell_type": "code",
   "execution_count": null,
   "metadata": {
    "collapsed": true
   },
   "outputs": [],
   "source": [
    "s = 'qweqwe'\n",
    "len(s[::2])"
   ]
  },
  {
   "cell_type": "code",
   "execution_count": null,
   "metadata": {
    "collapsed": true
   },
   "outputs": [],
   "source": [
    "n = 5\n",
    "a = [0]*n\n",
    "print (a)"
   ]
  },
  {
   "cell_type": "code",
   "execution_count": null,
   "metadata": {
    "collapsed": true
   },
   "outputs": [],
   "source": [
    "l = 'q w e r t y'\n",
    "a = l.split()\n",
    "print(a)"
   ]
  },
  {
   "cell_type": "code",
   "execution_count": null,
   "metadata": {
    "collapsed": true
   },
   "outputs": [],
   "source": [
    "l = '123 34534 6 5 658 54'\n",
    "a = l.split()\n",
    "for i in range(len(a)):\n",
    "    a[i]=int(a[i])\n",
    "print(a)"
   ]
  },
  {
   "cell_type": "markdown",
   "metadata": {},
   "source": [
    "# Генераторы списков\n",
    "['операция над элементом' for 'элемент' in 'исходное множество']"
   ]
  },
  {
   "cell_type": "code",
   "execution_count": null,
   "metadata": {
    "collapsed": true
   },
   "outputs": [],
   "source": [
    "n = 10\n",
    "a = [s for s in range(1, n+1)]\n",
    "print(a)"
   ]
  },
  {
   "cell_type": "markdown",
   "metadata": {},
   "source": [
    "A = {x^2 | 3 < x < 6, x ∈ N}"
   ]
  },
  {
   "cell_type": "code",
   "execution_count": null,
   "metadata": {
    "collapsed": true
   },
   "outputs": [],
   "source": [
    "n = 10\n",
    "a = [s ** 2 for s in range(1, n+1)]\n",
    "print(a)"
   ]
  },
  {
   "cell_type": "code",
   "execution_count": null,
   "metadata": {
    "collapsed": true
   },
   "outputs": [],
   "source": [
    "l = '123 34534 6 5 658 54'\n",
    "a = [int(s) for s in l.split()]\n",
    "print (a)"
   ]
  },
  {
   "cell_type": "markdown",
   "metadata": {},
   "source": [
    "# Двумерные массивы\n",
    "массив (одинаковых однострочных) массивов"
   ]
  },
  {
   "cell_type": "code",
   "execution_count": null,
   "metadata": {
    "collapsed": true
   },
   "outputs": [],
   "source": [
    "A = [[12], 12, [12,16,[ 18,[14,[13,[12],'40i'],\"60uu\"],'iii'], 12]]\n",
    "print(A[0])\n",
    "print(A[1])\n",
    "print(A[2])"
   ]
  },
  {
   "cell_type": "code",
   "execution_count": null,
   "metadata": {
    "collapsed": true
   },
   "outputs": [],
   "source": [
    "A = [[1, 2, 3, 4], [11, 21, 31, 41], [11, 12, 13, 14]]\n",
    "print(A[0])\n",
    "print(A[1])\n",
    "print(A[2])\n",
    "print(A[1][2])"
   ]
  },
  {
   "cell_type": "code",
   "execution_count": 1,
   "metadata": {},
   "outputs": [
    {
     "name": "stdout",
     "output_type": "stream",
     "text": [
      "[[0, 0, 0, 0], [0, 0, 0, 0], [0, 0, 0, 0]]\n"
     ]
    }
   ],
   "source": [
    "n = 3\n",
    "m = 4\n",
    "#d = [[0] * m] * n\n",
    "d = [[0] * m for i in range(n)]\n",
    "print(d)"
   ]
  },
  {
   "cell_type": "code",
   "execution_count": 2,
   "metadata": {},
   "outputs": [
    {
     "name": "stdout",
     "output_type": "stream",
     "text": [
      "  .  5 30 40\n",
      " 11 21 31 41\n",
      " 11 12 13 14\n"
     ]
    }
   ],
   "source": [
    "def outp(A):\n",
    "    for i in range(len(A)):\n",
    "        for j in range(len(A[i])):\n",
    "            print (' ' * (len(str(A[-1][-1])) - len(str(A[i][j]))), A[i][j], end='')\n",
    "        print()  \n",
    "\n",
    "A = [['.', 5, 30, 40], [11, 21, 31, 41], [11, 12, 13, 14]]\n",
    "outp(A)"
   ]
  },
  {
   "cell_type": "markdown",
   "metadata": {},
   "source": [
    "###### Таблица умножения через обращение к каждому элементу"
   ]
  },
  {
   "cell_type": "code",
   "execution_count": null,
   "metadata": {
    "collapsed": true
   },
   "outputs": [],
   "source": [
    "n = 31\n",
    "m = 31\n",
    "d = [[0] * m for i in range(n)]\n",
    "for i in range(len(d)):\n",
    "    for j in range(len(d[i])):\n",
    "        d[i][j] = i * j\n",
    "        #p+=1\n",
    "outp(d)"
   ]
  },
  {
   "cell_type": "markdown",
   "metadata": {},
   "source": [
    "###### Таблица умножения через генератор"
   ]
  },
  {
   "cell_type": "code",
   "execution_count": null,
   "metadata": {
    "collapsed": true
   },
   "outputs": [],
   "source": [
    "n = 31\n",
    "m = 31\n",
    "d = [[i * j for j in range(m)] for i in range(n)]\n",
    "outp(d)"
   ]
  },
  {
   "cell_type": "code",
   "execution_count": 18,
   "metadata": {},
   "outputs": [
    {
     "name": "stdout",
     "output_type": "stream",
     "text": [
      "   0   1   2   3   4   5   6   7   8   9  10  11  12  13  14  15  16  17  18  19\n",
      "  20  21  22  23  24  25  26  27  28  29  30  31  32  33  34  35  36  37  38  39\n",
      "  40  41  42  43  44  45  46  47  48  49  50  51  52  53  54  55  56  57  58  59\n",
      "  60  61  62  63  64  65  66  67  68  69  70  71  72  73  74  75  76  77  78  79\n",
      "  80  81  82  83  84  85  86  87  88  89  90  91  92  93  94  95  96  97  98  99\n",
      " 100 101 102 103 104 105 106 107 108 109 110 111 112 113 114 115 116 117 118 119\n",
      " 120 121 122 123 124 125 126 127 128 129 130 131 132 133 134 135 136 137 138 139\n",
      " 140 141 142 143 144 145 146 147 148 149 150 151 152 153 154 155 156 157 158 159\n",
      " 160 161 162 163 164 165 166 167 168 169 170 171 172 173 174 175 176 177 178 179\n",
      " 180 181 182 183 184 185 186 187 188 189 190 191 192 193 194 195 196 197 198 199\n",
      " 200 201 202 203 204 205 206 207 208 209 210 211 212 213 214 215 216 217 218 219\n",
      " 220 221 222 223 224 225 226 227 228 229 230 231 232 233 234 235 236 237 238 239\n",
      " 240 241 242 243 244 245 246 247 248 249 250 251 252 253 254 255 256 257 258 259\n",
      " 260 261 262 263 264 265 266 267 268 269 270 271 272 273 274 275 276 277 278 279\n",
      " 280 281 282 283 284 285 286 287 288 289 290 291 292 293 294 295 296 297 298 299\n",
      " 300 301 302 303 304 305 306 307 308 309 310 311 312 313 314 315 316 317 318 319\n",
      " 320 321 322 323 324 325 326 327 328 329 330 331 332 333 334 335 336 337 338 339\n",
      " 340 341 342 343 344 345 346 347 348 349 350 351 352 353 354 355 356 357 358 359\n",
      " 360 361 362 363 364 365 366 367 368 369 370 371 372 373 374 375 376 377 378 379\n",
      " 380 381 382 383 384 385 386 387 388 389 390 391 392 393 394 395 396 397 398 399\n"
     ]
    }
   ],
   "source": [
    "n = 20\n",
    "m = 20\n",
    "d = [[i * m + j for j in range(m)] for i in range(n)]\n",
    "outp(d)"
   ]
  },
  {
   "cell_type": "code",
   "execution_count": 25,
   "metadata": {},
   "outputs": [
    {
     "name": "stdout",
     "output_type": "stream",
     "text": [
      "[1, 23, 34, 5, 7567, 53, 6577, 342, 65]\n",
      "[1, 23, 34, 5, 7567, 53, 6577, 342, 65]\n"
     ]
    }
   ],
   "source": [
    "N = '1 23 34 5 7567 53 6577 342 65'\n",
    "A = [int(N.split()[i]) for i in range(len(N.split()))]\n",
    "B = [int(elem) for elem in N.split()]\n",
    "print(A)\n",
    "print(B)"
   ]
  },
  {
   "cell_type": "code",
   "execution_count": 28,
   "metadata": {},
   "outputs": [
    {
     "name": "stdout",
     "output_type": "stream",
     "text": [
      "2 3\n",
      "234 546 7856\n",
      "54652 856456  868545\n",
      "2 3\n"
     ]
    }
   ],
   "source": [
    "n, m = [int(elem) for elem in input().split()]\n",
    "A = []\n",
    "B = []\n",
    "for i in range(n):\n",
    "    S = [int(elem) for elem in input().split()]\n",
    "    A.append(S)\n",
    "    B.append(max(S))\n",
    "a1 = B.index(max(B))\n",
    "a2 = A[a1].index(max(B))\n",
    "print(a1+1, a2+1)"
   ]
  },
  {
   "cell_type": "markdown",
   "metadata": {},
   "source": [
    "n, m = [int(elem) for elem in input().split()]\n",
    "A = [[int(elem) for elem in input().split()] for i in range(n)]\n",
    "B = [max(row) for row in A]\n",
    "maxB = B.index(max(B))\n",
    "print(maxB, A[maxB].index(max(B)))"
   ]
  },
  {
   "cell_type": "code",
   "execution_count": 26,
   "metadata": {},
   "outputs": [
    {
     "data": {
      "text/plain": [
       "'12, 23525, 63534, 532156, 867985, 23469, 234, 890'"
      ]
     },
     "execution_count": 26,
     "metadata": {},
     "output_type": "execute_result"
    }
   ],
   "source": [
    "A = '12;!_23525;!_63534;!_532156;!_867985;!_23469;!_234;!_890'\n",
    "A.replace(';!_', ', ')"
   ]
  },
  {
   "cell_type": "code",
   "execution_count": 32,
   "metadata": {},
   "outputs": [
    {
     "data": {
      "text/plain": [
       "['54652', '', '', '', '856456', '', '', '868545']"
      ]
     },
     "execution_count": 32,
     "metadata": {},
     "output_type": "execute_result"
    }
   ],
   "source": [
    "'54652    856456   868545'.split(' ')"
   ]
  },
  {
   "cell_type": "code",
   "execution_count": 35,
   "metadata": {},
   "outputs": [
    {
     "name": "stdout",
     "output_type": "stream",
     "text": [
      "Правда\n",
      "Правда 101\n",
      "Правда tt\n",
      "Правда [1,2,3]\n"
     ]
    }
   ],
   "source": [
    "if True:\n",
    "    print('Правда')\n",
    "if 101:\n",
    "    print('Правда 101')\n",
    "if 'tt':\n",
    "    print('Правда tt')\n",
    "if [1,2,3]:\n",
    "    print('Правда [1,2,3]')\n",
    "\n",
    "if False:\n",
    "    print('Неправда')\n",
    "if 0:\n",
    "    print('Неправда 0')\n",
    "if '':\n",
    "    print(\"Неправда ''\")\n",
    "if []:\n",
    "    print('Неправда []')"
   ]
  },
  {
   "cell_type": "markdown",
   "metadata": {},
   "source": [
    "# ЗАЧЕТ"
   ]
  },
  {
   "cell_type": "code",
   "execution_count": 52,
   "metadata": {},
   "outputs": [
    {
     "name": "stdout",
     "output_type": "stream",
     "text": [
      "2\n",
      "No\n"
     ]
    }
   ],
   "source": [
    "a = int(input())\n",
    "if a%2==0 :\n",
    "    if a > 2:\n",
    "        print('Yes')\n",
    "    else :\n",
    "        print('No')\n",
    "else  :\n",
    "    print('No')"
   ]
  },
  {
   "cell_type": "code",
   "execution_count": 56,
   "metadata": {},
   "outputs": [
    {
     "name": "stdout",
     "output_type": "stream",
     "text": [
      "5\n",
      "7\n",
      "18\n"
     ]
    }
   ],
   "source": [
    "def summ (a,b):\n",
    "    summa = 0\n",
    "    for i in range(a, b+1):\n",
    "        summa = summa+i\n",
    "    return summa\n",
    "a = int(input())\n",
    "b = int(input())\n",
    "print(summ(a,b))"
   ]
  },
  {
   "cell_type": "code",
   "execution_count": 60,
   "metadata": {},
   "outputs": [
    {
     "name": "stdout",
     "output_type": "stream",
     "text": [
      "www eee eee\n"
     ]
    },
    {
     "data": {
      "text/plain": [
       "'www,eee,eee'"
      ]
     },
     "execution_count": 60,
     "metadata": {},
     "output_type": "execute_result"
    }
   ],
   "source": [
    "a = input()\n",
    "#a.replace('a','o')\n",
    "a.replace(' ',', ')\n",
    "#a[::-1]"
   ]
  },
  {
   "cell_type": "code",
   "execution_count": 66,
   "metadata": {},
   "outputs": [
    {
     "name": "stdout",
     "output_type": "stream",
     "text": [
      "4\n",
      "1 2 3 4\n",
      "9 8 7 6 "
     ]
    }
   ],
   "source": [
    "a = int(input())\n",
    "d = [int(elem) for elem in input().split()]\n",
    "summ = 0\n",
    "for i in range(a):\n",
    "    for j in range(a):\n",
    "        if i!=j:\n",
    "            summ += d[j]\n",
    "    print(summ, end=' ')\n",
    "    summ = 0\n",
    "        "
   ]
  },
  {
   "cell_type": "code",
   "execution_count": 1,
   "metadata": {
    "scrolled": true
   },
   "outputs": [
    {
     "name": "stdout",
     "output_type": "stream",
     "text": [
      "11 \n",
      "11111\n",
      "110\n"
     ]
    }
   ],
   "source": [
    "a = input()\n",
    "b = input()\n",
    "c =[]\n",
    "\n",
    "for i in range(len(a)):\n",
    "    if a[i] == b[i]:\n",
    "        c.append('1')\n",
    "    else:\n",
    "        c.append('0')\n",
    "t = c[0]\n",
    "for i in range(len(c)-1):\n",
    "    t += c[i+1] \n",
    "print(t)\n",
    "        \n",
    "        "
   ]
  },
  {
   "cell_type": "markdown",
   "metadata": {},
   "source": [
    "###### ЗАЧЕТ ОКОНЧЕН"
   ]
  },
  {
   "cell_type": "code",
   "execution_count": 73,
   "metadata": {
    "collapsed": true
   },
   "outputs": [],
   "source": [
    "d = ''\n",
    "d += '12'"
   ]
  },
  {
   "cell_type": "code",
   "execution_count": 9,
   "metadata": {},
   "outputs": [
    {
     "name": "stdout",
     "output_type": "stream",
     "text": [
      "4.33 µs ± 468 ns per loop (mean ± std. dev. of 7 runs, 100000 loops each)\n"
     ]
    }
   ],
   "source": [
    "def NOD (a, b):\n",
    "    if b :\n",
    "        return NOD(b, a%b)\n",
    "    else:\n",
    "        return a\n",
    "\n",
    "%timeit NOD(45610345371, 6444356262)"
   ]
  },
  {
   "cell_type": "code",
   "execution_count": 8,
   "metadata": {},
   "outputs": [
    {
     "name": "stdout",
     "output_type": "stream",
     "text": [
      "2.69 µs ± 229 ns per loop (mean ± std. dev. of 7 runs, 100000 loops each)\n"
     ]
    }
   ],
   "source": [
    "def NewNOD (a, b):\n",
    "    while b != 0:\n",
    "        a, b = b, a%b\n",
    "    return a\n",
    "\n",
    "%timeit NewNOD(45610345371, 6444356262)"
   ]
  },
  {
   "cell_type": "code",
   "execution_count": 98,
   "metadata": {},
   "outputs": [
    {
     "name": "stdout",
     "output_type": "stream",
     "text": [
      "8 5\n",
      "10 9 8 7 7 7 5 5\n",
      "6\n"
     ]
    }
   ],
   "source": [
    "n, k = [int(elem) for elem in input().split()]\n",
    "A= [int(elem) for elem in input().split()]\n",
    "c = []\n",
    "#print(n)\n",
    "for i in range (len(A)):\n",
    "    if A[i] >= A[k-1]:\n",
    "        c.append(i)\n",
    "    else:\n",
    "        break\n",
    "print(len(c))"
   ]
  },
  {
   "cell_type": "code",
   "execution_count": 99,
   "metadata": {},
   "outputs": [
    {
     "data": {
      "text/plain": [
       "[0, 0, 3, 4, 5]"
      ]
     },
     "execution_count": 99,
     "metadata": {},
     "output_type": "execute_result"
    }
   ],
   "source": [
    "a = [1, 2, 3, 4, 5]\n",
    "[i if i > 2 else 0 for i in a]"
   ]
  },
  {
   "cell_type": "code",
   "execution_count": 101,
   "metadata": {},
   "outputs": [
    {
     "name": "stdout",
     "output_type": "stream",
     "text": [
      "[1, 3, 4, 777, 104838, 11111003, 333333333]\n"
     ]
    }
   ],
   "source": [
    "a = [104838,1, 3, 777,333333333, 11111003, 4]\n",
    "a.sort()\n",
    "print(a)"
   ]
  },
  {
   "cell_type": "code",
   "execution_count": 123,
   "metadata": {},
   "outputs": [
    {
     "name": "stdout",
     "output_type": "stream",
     "text": [
      "1+2+3+3+21+1\n",
      "1+1+2+3+3+21\n"
     ]
    }
   ],
   "source": [
    "a = Sort([int(elem) for elem in input().split('+')])\n",
    "a =[str(elem) for elem in a] \n",
    "print('+'.join(a))\n",
    "#print(b)\n"
   ]
  },
  {
   "cell_type": "code",
   "execution_count": 124,
   "metadata": {},
   "outputs": [
    {
     "data": {
      "text/plain": [
       "0"
      ]
     },
     "execution_count": 124,
     "metadata": {},
     "output_type": "execute_result"
    }
   ],
   "source": [
    "sum([])"
   ]
  },
  {
   "cell_type": "code",
   "execution_count": 122,
   "metadata": {
    "collapsed": true
   },
   "outputs": [],
   "source": [
    "# принимает только массив\n",
    "def Sort (a):\n",
    "#    a.sort(reverse = True)\n",
    "    a.sort()\n",
    "    return a"
   ]
  },
  {
   "cell_type": "code",
   "execution_count": 116,
   "metadata": {},
   "outputs": [
    {
     "name": "stdout",
     "output_type": "stream",
     "text": [
      "[333333333, 11111003, 104838, 777, 4, 3, 1]\n"
     ]
    }
   ],
   "source": [
    "a = Sort([104838,1, 3, 777,333333333, 11111003, 4])\n",
    "print(a)"
   ]
  },
  {
   "cell_type": "code",
   "execution_count": 127,
   "metadata": {},
   "outputs": [
    {
     "name": "stdout",
     "output_type": "stream",
     "text": [
      "4\n",
      "1 2 1 3\n",
      "2\n"
     ]
    }
   ],
   "source": [
    "a = int(input())\n",
    "s = Sort([int(elem) for elem in input().split()])\n",
    "d = []\n",
    "\n",
    "#summ1= sum(s)\n",
    "#summ2 = 0\n",
    "#i = -1\n",
    "while sum(s) > sum(d):\n",
    "    d.append(s[-1])\n",
    "    #s[-1]=0\n",
    "    s = s[:-1]\n",
    "print(len(d))"
   ]
  },
  {
   "cell_type": "code",
   "execution_count": 1,
   "metadata": {},
   "outputs": [
    {
     "ename": "NameError",
     "evalue": "name 's' is not defined",
     "output_type": "error",
     "traceback": [
      "\u001b[1;31m---------------------------------------------------------------------------\u001b[0m",
      "\u001b[1;31mNameError\u001b[0m                                 Traceback (most recent call last)",
      "\u001b[1;32m<ipython-input-1-2b359ae805e7>\u001b[0m in \u001b[0;36m<module>\u001b[1;34m()\u001b[0m\n\u001b[1;32m----> 1\u001b[1;33m \u001b[0ms\u001b[0m \u001b[1;33m=\u001b[0m \u001b[0ms\u001b[0m\u001b[1;33m[\u001b[0m\u001b[1;33m:\u001b[0m\u001b[1;33m-\u001b[0m\u001b[1;36m1\u001b[0m\u001b[1;33m]\u001b[0m\u001b[1;33m\u001b[0m\u001b[0m\n\u001b[0m",
      "\u001b[1;31mNameError\u001b[0m: name 's' is not defined"
     ]
    }
   ],
   "source": [
    "s = s[:-1]"
   ]
  },
  {
   "cell_type": "code",
   "execution_count": 9,
   "metadata": {},
   "outputs": [
    {
     "name": "stdout",
     "output_type": "stream",
     "text": [
      "6\n",
      "100\n",
      "8\n",
      "33\n",
      "145\n",
      "19\n",
      "84\n",
      "153\n",
      "Вычисленное контрольное значение: 153\n",
      "Контроль пройден\n"
     ]
    }
   ],
   "source": [
    "n = int(input())\n",
    "*g, c= [int(input()) for elem in range(n+1)]\n",
    "R = 1\n",
    "for i in range(n):\n",
    "    for f in range(n):\n",
    "        if i!=f:\n",
    "            if (g[i]+g[f])%3 :\n",
    "                pass\n",
    "            else:\n",
    "                if g[i]+g[f]>R:\n",
    "                    R =g[i]+g[f]\n",
    "                else:\n",
    "                    pass\n",
    "        else:\n",
    "            pass\n",
    "            \n",
    "print('Вычисленное контрольное значение:', R)\n",
    "if R == c:\n",
    "    print('Контроль пройден')\n",
    "else:\n",
    "     print('Контроль не пройден')"
   ]
  },
  {
   "cell_type": "code",
   "execution_count": null,
   "metadata": {
    "collapsed": true
   },
   "outputs": [],
   "source": [
    "n = int(input())\n",
    "*g, c= (int(input()) for elem in range(n + 1))\n",
    "R = 1\n",
    "a = 0\n",
    "for i in range(n):\n",
    "    for f in range(i + 1,n):\n",
    "        a = g[i] + g[f]\n",
    "        if not a % 3 :\n",
    "            if a > R:\n",
    "                R = a \n",
    "            \n",
    "                \n",
    "                \n",
    "        \n",
    "            \n",
    "print('Вычисленное контрольное значение:', R)\n",
    "if R == c:\n",
    "    print('Контроль пройден')\n",
    "else:\n",
    "     print('Контроль не пройден')"
   ]
  },
  {
   "cell_type": "code",
   "execution_count": 15,
   "metadata": {},
   "outputs": [
    {
     "data": {
      "text/plain": [
       "[5, 5, 5, 5, 5]"
      ]
     },
     "execution_count": 15,
     "metadata": {},
     "output_type": "execute_result"
    }
   ],
   "source": [
    "i = 2\n",
    "g = [5, 5,5,5,5,5,5,5]\n",
    "g[i+1:]\n"
   ]
  },
  {
   "cell_type": "code",
   "execution_count": 1,
   "metadata": {},
   "outputs": [
    {
     "ename": "IndentationError",
     "evalue": "unindent does not match any outer indentation level (<tokenize>, line 4)",
     "output_type": "error",
     "traceback": [
      "\u001b[1;36m  File \u001b[1;32m\"<tokenize>\"\u001b[1;36m, line \u001b[1;32m4\u001b[0m\n\u001b[1;33m    if (minimum < a2):\u001b[0m\n\u001b[1;37m    ^\u001b[0m\n\u001b[1;31mIndentationError\u001b[0m\u001b[1;31m:\u001b[0m unindent does not match any outer indentation level\n"
     ]
    }
   ],
   "source": [
    "def mini():\n",
    "\n",
    "\t minimum = a1\n",
    "\tif (minimum < a2):\n",
    "\t\n",
    "\t\tminimum = a2\n",
    "\t\tif (minimum < a3):\n",
    "\t\t\tminimum = a3\n",
    "\t\t\tif (minimum < a4):\n",
    "\t\t\t\n",
    "\t\t\t\tminimum = a4\n",
    "\t\t\t\tif minimum < a5:\n",
    "\t\t\t\t\n",
    "\t\t\t\t\tminimum = a5\n",
    "\t\t\t\t\ta5 = 10000\n",
    "\t\t\t\t\n",
    "\t\t\t\telse:\n",
    "\t\t\t\t\n",
    "\t\t\t\t\ta4 = 10000\n",
    "\t\t\t\t\n",
    "\t\t\t\n",
    "\t\t\telif minimum < a5:\n",
    "\t\t\t\n",
    "\t\t\t\tminimum = a5\n",
    "\t\t\t\ta5 = 10000\n",
    "\t\t\t\n",
    "\t\t\telse:\n",
    "\t\t\t\n",
    "\t\t\t\ta4 = 10000\n",
    "\t\t\t\n",
    "\t\t\n",
    "\t\telif minimum < a4:\n",
    "\t\t\n",
    "\t\t\tminimum = a4\n",
    "\t\t\tif minimum < a5:\n",
    "\t\t\t\n",
    "\t\t\t\tminimum = a5\n",
    "\t\t\t\ta5 = 10000\n",
    "\t\t\t\n",
    "\t\t\telse:\n",
    "\t\t\t\n",
    "\t\t\t\ta3 = 10000\n",
    "\t\t\t\n",
    "\t\t\n",
    "\t\telif minimum < a5:\n",
    "\t\t\n",
    "\t\t\tminimum = a5\n",
    "\t\t\ta5 = 10000\n",
    "\t\t\n",
    "\t\telse:\n",
    "\t\t\n",
    "\t\t\ta2 = 10000\n",
    "\t\t\n",
    "\t\n",
    "\telif minimum < a3:\n",
    "\t\n",
    "\t\tminimum = a3\n",
    "\t\tif (minimum < a4):\n",
    "\t\t\n",
    "\t\t\tminimum = a4\n",
    "\t\t\tif (minimum < a5):\n",
    "\t\t\t\n",
    "\t\t\t\tminimum = a5\n",
    "\t\t\t\ta5 = 10000\n",
    "\t\t\t\n",
    "\t\t\telse:\n",
    "\t\t\t\n",
    "\t\t\t\ta4 = 10000\n",
    "\t\t\t\n",
    "\t\t\n",
    "\t\telif (minimum < a5):\n",
    "\t\t\n",
    "\t\t\tminimum = a5\n",
    "\t\t\ta5 = 10000\n",
    "\t\t\n",
    "\t\telse:\n",
    "\t\t\n",
    "\t\t\ta3 = 10000\n",
    "\t\t\n",
    "\t\n",
    "\telif (minimum < a4):\n",
    "\t\n",
    "\t\tminimum = a4\n",
    "\t\tif (minimum < a5):\n",
    "\t\t\n",
    "\t\t\tminimum = a5\n",
    "\t\t\ta5 = 10000\n",
    "\t\t\n",
    "\t\telse:\n",
    "\t\t\n",
    "\t\t\ta2 = 10000\n",
    "\t\t\n",
    "\t\n",
    "\telif (minimum < a5):\n",
    "\t\n",
    "\t\tminimum = a5\n",
    "\t\ta5 = 10000\n",
    "\t\n",
    "\telse:\n",
    "\t\n",
    "\t\ta1 = 10000\n",
    "\t\n",
    "\treturn minimum;\n"
   ]
  },
  {
   "cell_type": "markdown",
   "metadata": {},
   "source": [
    "# Сортировка пузырьком"
   ]
  },
  {
   "cell_type": "code",
   "execution_count": 7,
   "metadata": {},
   "outputs": [
    {
     "name": "stdout",
     "output_type": "stream",
     "text": [
      "[17, 20, 26, 31, 44, 54, 55, 65, 77, 99]\n"
     ]
    }
   ],
   "source": [
    "#a = [int(elem) for elem in input().split()]\n",
    "a = [20,44,31,17,54,55,65,77,26,99]\n",
    "for j in range(len(a)-1):\n",
    "    for i in range(len(a)-1):\n",
    "        if a[i]>a[i+1]:\n",
    "            a[i],a[i+1] = a[i+1],a[i]\n",
    "            \n",
    "            \n",
    "print(a)\n",
    "    "
   ]
  },
  {
   "cell_type": "markdown",
   "metadata": {},
   "source": [
    "# Cортировка вставками"
   ]
  },
  {
   "cell_type": "code",
   "execution_count": 18,
   "metadata": {},
   "outputs": [
    {
     "name": "stdout",
     "output_type": "stream",
     "text": [
      "[17, 20, 26, 31, 44, 54, 55, 65, 77, 93]\n"
     ]
    }
   ],
   "source": [
    "\n",
    "a = [20,44,93,31,17,54,55,65,77,26]\n",
    "for i in range(1,len(a)):\n",
    "    for j in range(i):\n",
    "        #print(i, j, len(a),a)\n",
    "        if a[i]<a[j]:\n",
    "            a = a[:j]+a[i:i+1]+a[j:i]+a[i+1:]\n",
    "            break\n",
    "print(a)\n",
    "            \n",
    "            \n",
    "            "
   ]
  },
  {
   "cell_type": "code",
   "execution_count": 9,
   "metadata": {},
   "outputs": [
    {
     "data": {
      "text/plain": [
       "[0, 1, 2, 3, 4]"
      ]
     },
     "execution_count": 9,
     "metadata": {},
     "output_type": "execute_result"
    }
   ],
   "source": [
    "list(range(5))"
   ]
  },
  {
   "cell_type": "code",
   "execution_count": 1,
   "metadata": {},
   "outputs": [
    {
     "data": {
      "text/plain": [
       "[20, 31, 44, 93, 17, 54, 55, 65, 77, 26]"
      ]
     },
     "execution_count": 1,
     "metadata": {},
     "output_type": "execute_result"
    }
   ],
   "source": [
    "[20,44,93,31,17,54,55,65,77,26]\n",
    "[20,31,44,93,17,54,55,65,77,26]"
   ]
  },
  {
   "cell_type": "code",
   "execution_count": 6,
   "metadata": {},
   "outputs": [
    {
     "name": "stdout",
     "output_type": "stream",
     "text": [
      "13 41\n",
      "41 13\n"
     ]
    }
   ],
   "source": [
    "n, m = [int(elem) for elem in input().split()]\n",
    "d = NOD(n, m)\n",
    "print(m//d,n//d)"
   ]
  },
  {
   "cell_type": "code",
   "execution_count": 23,
   "metadata": {},
   "outputs": [
    {
     "name": "stdout",
     "output_type": "stream",
     "text": [
      "3 5\n",
      "[[1, 0], [4, 2], [5, 3], [6, 4], [8, 2]]\n",
      "NO\n"
     ]
    }
   ],
   "source": [
    "s, n = [int(elem) for elem in input().split()]\n",
    "#a = [[int(elem) for elem in input().split()]  for i in range(n)]\n",
    "a = [[4,2],[5,3],[1,0],[6,4],[8,2]]\n",
    "d = sorted(a)\n",
    "\n",
    "print(d)\n",
    "for i in d:\n",
    "    if s > i[0]:\n",
    "        s += i[1]\n",
    "    else:       \n",
    "        print('NO')\n",
    "        break\n",
    "#if f == 0:\n",
    "else:\n",
    "    print('YES')"
   ]
  },
  {
   "cell_type": "markdown",
   "metadata": {},
   "source": [
    "a = [[5, 2],[4, 6],[7, 3],[2, 9]]\n",
    "sorted(a)"
   ]
  },
  {
   "cell_type": "markdown",
   "metadata": {
    "collapsed": true
   },
   "source": [
    "# ЗАЧЕТ"
   ]
  },
  {
   "cell_type": "code",
   "execution_count": 5,
   "metadata": {},
   "outputs": [
    {
     "name": "stdout",
     "output_type": "stream",
     "text": [
      "2 2\n",
      "2\n"
     ]
    }
   ],
   "source": [
    "a, b = [int(elem) for elem in input().split()]\n",
    "S = a * b\n",
    "q = 2\n",
    "d = 1\n",
    "i = 1\n",
    "while q**2 <= S:\n",
    "    if not(S%q**2):\n",
    "         d = q\n",
    "    q += i\n",
    "print(d)"
   ]
  },
  {
   "cell_type": "code",
   "execution_count": 15,
   "metadata": {},
   "outputs": [
    {
     "name": "stdout",
     "output_type": "stream",
     "text": [
      "3\n",
      "1 3 1\n",
      "3\n"
     ]
    }
   ],
   "source": [
    "def sortList(a):\n",
    "    for j in range(len(a)-1):\n",
    "        for i in range(len(a)-1):\n",
    "            if a[i]>a[i+1]:\n",
    "                a[i],a[i+1] = a[i+1],a[i]\n",
    "                \n",
    "b = int(input())\n",
    "a = [int(elem) for elem in input().split()]\n",
    "bad = 0 \n",
    "for j in range(len(a)-1):\n",
    "    for i in range(len(a)-1):\n",
    "        if a[i]>a[i+1]:\n",
    "            a[i],a[i+1] = a[i+1],a[i]\n",
    "            \n",
    "            \n",
    "for i in range(len(a)):\n",
    "    if i != len(a)-1:\n",
    "        if a[i] != a[i+1]:\n",
    "            if i != 0:\n",
    "                if a[i] != a[i-1]:\n",
    "                    bad = a[i]\n",
    "                    break\n",
    "            else:\n",
    "                break\n",
    "    else:\n",
    "        if a[i] != a[i-1]:\n",
    "            bad = a[i]\n",
    "            break\n",
    "print(bad)\n",
    "        "
   ]
  },
  {
   "cell_type": "code",
   "execution_count": null,
   "metadata": {
    "collapsed": true
   },
   "outputs": [],
   "source": [
    "a, b = [int(elem) for elem in input().split()]\n",
    "if a*b%2:\n",
    "    print('NO')\n",
    "else:\n",
    "    print('YES')"
   ]
  }
 ],
 "metadata": {
  "kernelspec": {
   "display_name": "Python 3",
   "language": "python",
   "name": "python3"
  },
  "language_info": {
   "codemirror_mode": {
    "name": "ipython",
    "version": 3
   },
   "file_extension": ".py",
   "mimetype": "text/x-python",
   "name": "python",
   "nbconvert_exporter": "python",
   "pygments_lexer": "ipython3",
   "version": "3.6.3"
  }
 },
 "nbformat": 4,
 "nbformat_minor": 2
}
