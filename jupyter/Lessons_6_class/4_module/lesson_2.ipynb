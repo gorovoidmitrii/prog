{
 "cells": [
  {
   "cell_type": "code",
   "execution_count": 3,
   "metadata": {},
   "outputs": [
    {
     "name": "stdout",
     "output_type": "stream",
     "text": [
      "1000000000\n",
      "1 1000000000 2 500000000 4 250000000 5 200000000 8 125000000 10 100000000 16 62500000 20 50000000 25 40000000 32 31250000 40 25000000 50 20000000 64 15625000 80 12500000 100 10000000 125 8000000 128 7812500 160 6250000 200 5000000 250 4000000 256 3906250 320 3125000 400 2500000 500 2000000 512 1953125 625 1600000 640 1562500 800 1250000 1000 1000000 1250 800000 1280 781250 1600 625000 2000 500000 2500 400000 2560 390625 3125 320000 3200 312500 4000 250000 5000 200000 6250 160000 6400 156250 8000 125000 10000 100000 12500 80000 12800 78125 15625 64000 16000 62500 20000 50000 25000 40000 31250 32000\n"
     ]
    }
   ],
   "source": [
    "n = int(input())\n",
    "G = []\n",
    "for i in range(1, int(n**0.5)+1):\n",
    "    if n % (i) == 0:\n",
    "        G.append(i)\n",
    "        G.append(n//i)\n",
    "        \n",
    "print(*G)"
   ]
  },
  {
   "cell_type": "code",
   "execution_count": null,
   "metadata": {
    "scrolled": true
   },
   "outputs": [],
   "source": []
  },
  {
   "cell_type": "code",
   "execution_count": null,
   "metadata": {
    "collapsed": true
   },
   "outputs": [],
   "source": []
  }
 ],
 "metadata": {
  "kernelspec": {
   "display_name": "Python 3",
   "language": "python",
   "name": "python3"
  },
  "language_info": {
   "codemirror_mode": {
    "name": "ipython",
    "version": 3
   },
   "file_extension": ".py",
   "mimetype": "text/x-python",
   "name": "python",
   "nbconvert_exporter": "python",
   "pygments_lexer": "ipython3",
   "version": "3.6.3"
  }
 },
 "nbformat": 4,
 "nbformat_minor": 2
}
