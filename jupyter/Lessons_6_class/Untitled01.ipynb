{
 "cells": [
  {
   "cell_type": "code",
   "execution_count": 1,
   "metadata": {},
   "outputs": [
    {
     "name": "stdout",
     "output_type": "stream",
     "text": [
      "7\n"
     ]
    }
   ],
   "source": [
    "B = [0]\n",
    "n = int(input())\n",
    "A = input().split()\n",
    "for i in range (n) :\n",
    "    A[i]=int(A[i])\n",
    "for i in range (len(A)):\n",
    "    for e in range (len(B)):\n",
    "        if A[i] == B[e]:\n",
    "            pass\n",
    "        else :\n",
    "            B.append(A[i])\n",
    "print (len(B)-1)"
   ]
  },
  {
   "cell_type": "code",
   "execution_count": 5,
   "metadata": {},
   "outputs": [
    {
     "name": "stdout",
     "output_type": "stream",
     "text": [
      "1\n"
     ]
    }
   ],
   "source": [
    "t =0\n",
    "\n",
    "B = [0]\n",
    "n = int(input())\n",
    "A = input().split()\n",
    "for i in range (n) :\n",
    "    A[i]=int(A[i])\n",
    "for i in range (len(A)):\n",
    "    for e in range (len(B)):\n",
    "        if A[i] == B[e]:\n",
    "            t = 1\n",
    "            break\n",
    "        else :\n",
    "           pass\n",
    "    if t == 1 :\n",
    "        pass\n",
    "    else:\n",
    "        B.append(A[i])\n",
    "    \n",
    "print (len(B)-1)\n",
    "\n"
   ]
  },
  {
   "cell_type": "code",
   "execution_count": 8,
   "metadata": {},
   "outputs": [
    {
     "name": "stdout",
     "output_type": "stream",
     "text": [
      "23 59\n",
      "0 8\n",
      "0 17\n",
      "0 26\n",
      "0 35\n",
      "0 44\n",
      "0 53\n",
      "1 2\n",
      "1 11\n",
      "1 20\n"
     ]
    }
   ],
   "source": [
    "A=input().split()\n",
    "for i in range (2) :\n",
    "    A[i]=int(A[i])\n",
    "x=A[0]\n",
    "y=A[1]\n",
    "\n",
    "print (x,y)\n",
    "\n",
    "\n",
    "for i in range (9):\n",
    "    if y < 51 :\n",
    "        y = y + 9\n",
    "    else :\n",
    "        if x<23:\n",
    "            x = x + 1\n",
    "            y = y + 9 - 60\n",
    "        else :\n",
    "            x = x + 1 - 24\n",
    "            y = y + 9 - 60\n",
    "    print(x,y)\n",
    "    \n",
    "\n",
    "\n",
    "\n",
    "\n"
   ]
  },
  {
   "cell_type": "code",
   "execution_count": 16,
   "metadata": {},
   "outputs": [
    {
     "name": "stdout",
     "output_type": "stream",
     "text": [
      "5\n",
      " 3 3 -2 3 -2\n"
     ]
    }
   ],
   "source": [
    "a = int(input())\n",
    "x=0\n",
    "x=a//3\n",
    "x=x+a%3*2\n",
    "print (x)\n",
    "print(' 3'*(a//3) + ' 3 -2' * (a % 3))\n"
   ]
  },
  {
   "cell_type": "code",
   "execution_count": null,
   "metadata": {},
   "outputs": [],
   "source": [
    "a = int(input()) \n",
    "B = []\n",
    "C = []\n",
    "summ = 0\n",
    "for i in range (a):\n",
    "    B.append(int(input()))\n",
    "print(B)\n",
    "for i in range (len(B)):\n",
    "    if min(B) < 1001:\n",
    "        C.append(min(B))\n",
    "        r = B.index(C[i])\n",
    "        B[r] = 1001\n",
    "print(B)\n",
    "print (C)\n",
    "for i in range (len(C)):\n",
    "    if i % 3 == 0:\n",
    "        if i - len(C)//3*3 > 2 :\n",
    "            C[i] = 0\n",
    "        else:\n",
    "            pass\n",
    "for i in range (len(C)):\n",
    "    summ = summ+C[i]\n",
    "print(C)\n",
    "print(summ)\n",
    "\n",
    "    \n"
   ]
  },
  {
   "cell_type": "code",
   "execution_count": null,
   "metadata": {},
   "outputs": [],
   "source": []
  },
  {
   "cell_type": "code",
   "execution_count": null,
   "metadata": {},
   "outputs": [],
   "source": []
  },
  {
   "cell_type": "code",
   "execution_count": null,
   "metadata": {},
   "outputs": [],
   "source": []
  },
  {
   "cell_type": "code",
   "execution_count": null,
   "metadata": {},
   "outputs": [],
   "source": []
  }
 ],
 "metadata": {
  "kernelspec": {
   "display_name": "Python 3",
   "language": "python",
   "name": "python3"
  },
  "language_info": {
   "codemirror_mode": {
    "name": "ipython",
    "version": 3
   },
   "file_extension": ".py",
   "mimetype": "text/x-python",
   "name": "python",
   "nbconvert_exporter": "python",
   "pygments_lexer": "ipython3",
   "version": "3.6.3"
  }
 },
 "nbformat": 4,
 "nbformat_minor": 2
}
