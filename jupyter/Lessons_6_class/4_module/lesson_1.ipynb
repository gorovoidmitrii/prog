{
 "cells": [
  {
   "cell_type": "code",
   "execution_count": 3,
   "metadata": {},
   "outputs": [
    {
     "data": {
      "text/plain": [
       "103"
      ]
     },
     "execution_count": 3,
     "metadata": {},
     "output_type": "execute_result"
    }
   ],
   "source": [
    "len('lentokonesuihkuturbiinimoottoriapumekaanikkoaliupseerioppilas')\n",
    "len('kumarreksituteskenteleentuvaisehkollaismaisekkuudellisenneskenteluttelemattomammuuksissansakkaankopahan')"
   ]
  },
  {
   "cell_type": "code",
   "execution_count": 2,
   "metadata": {},
   "outputs": [
    {
     "data": {
      "text/plain": [
       "''"
      ]
     },
     "execution_count": 2,
     "metadata": {},
     "output_type": "execute_result"
    }
   ],
   "source": [
    "a = str()\n",
    "a"
   ]
  },
  {
   "cell_type": "code",
   "execution_count": 3,
   "metadata": {},
   "outputs": [
    {
     "data": {
      "text/plain": [
       "[]"
      ]
     },
     "execution_count": 3,
     "metadata": {},
     "output_type": "execute_result"
    }
   ],
   "source": [
    "a = list()\n",
    "a"
   ]
  },
  {
   "cell_type": "code",
   "execution_count": 4,
   "metadata": {},
   "outputs": [
    {
     "data": {
      "text/plain": [
       "{}"
      ]
     },
     "execution_count": 4,
     "metadata": {},
     "output_type": "execute_result"
    }
   ],
   "source": [
    "a = dict()\n",
    "a"
   ]
  },
  {
   "cell_type": "code",
   "execution_count": 40,
   "metadata": {},
   "outputs": [
    {
     "data": {
      "text/plain": [
       "set()"
      ]
     },
     "execution_count": 40,
     "metadata": {},
     "output_type": "execute_result"
    }
   ],
   "source": [
    "a = set()\n",
    "a"
   ]
  },
  {
   "cell_type": "code",
   "execution_count": 32,
   "metadata": {},
   "outputs": [
    {
     "name": "stdout",
     "output_type": "stream",
     "text": [
      "1 (1, 2, 3)\n"
     ]
    }
   ],
   "source": [
    "a = 1\n",
    "b = 1,2,3\n",
    "print(a, b)"
   ]
  },
  {
   "cell_type": "markdown",
   "metadata": {},
   "source": [
    "# `Dict()`"
   ]
  },
  {
   "cell_type": "code",
   "execution_count": 47,
   "metadata": {
    "collapsed": true
   },
   "outputs": [],
   "source": [
    "# Вручную\n",
    "a = {'123': 123, 123: 123}"
   ]
  },
  {
   "cell_type": "code",
   "execution_count": 54,
   "metadata": {},
   "outputs": [
    {
     "data": {
      "text/plain": [
       "{1: 2, 3: 4, 5: 6}"
      ]
     },
     "execution_count": 54,
     "metadata": {},
     "output_type": "execute_result"
    }
   ],
   "source": [
    "# Вручную но парами\n",
    "a = dict(((1, 2), (3, 4), (5, 6)))\n",
    "a"
   ]
  },
  {
   "cell_type": "code",
   "execution_count": 59,
   "metadata": {},
   "outputs": [
    {
     "data": {
      "text/plain": [
       "{'ert': '6', 'qwe': '2', 'wer': '4'}"
      ]
     },
     "execution_count": 59,
     "metadata": {},
     "output_type": "execute_result"
    }
   ],
   "source": [
    "# Вручную\n",
    "a = dict(qwe = '2', wer = '4', ert = '6')\n",
    "a"
   ]
  },
  {
   "cell_type": "code",
   "execution_count": 66,
   "metadata": {},
   "outputs": [
    {
     "name": "stdout",
     "output_type": "stream",
     "text": [
      "{1: 4, 2: 5, 3: 6}\n"
     ]
    }
   ],
   "source": [
    "# Через ZIP\n",
    "b = [1, 2, 3]\n",
    "c = [4, 5, 6]\n",
    "a = dict(zip(b,c))\n",
    "print(a)"
   ]
  },
  {
   "cell_type": "code",
   "execution_count": 67,
   "metadata": {},
   "outputs": [
    {
     "name": "stdout",
     "output_type": "stream",
     "text": [
      "4\n",
      "5\n",
      "6\n"
     ]
    }
   ],
   "source": [
    "for i in a:\n",
    "    print(a[i])"
   ]
  },
  {
   "cell_type": "code",
   "execution_count": 13,
   "metadata": {},
   "outputs": [
    {
     "name": "stdout",
     "output_type": "stream",
     "text": [
      "0 1\n",
      "2 12\n",
      "2 124\n",
      "5 1248\n",
      "4 124816\n",
      "5 12481632\n",
      "6 1248163264\n",
      "7 1248163264128\n",
      "8 1248163264128256\n",
      "9 1248163264128256512\n",
      "10 12481632641282565121024\n",
      "11 124816326412825651210242048\n",
      "12 1248163264128256512102420484096\n",
      "13 12481632641282565121024204840968192\n",
      "14 1248163264128256512102420484096819216384\n",
      "15 124816326412825651210242048409681921638432768\n",
      "16 12481632641282565121024204840968192163843276865536\n",
      "17 12481632641282565121024204840968192163843276865536131072\n",
      "18 12481632641282565121024204840968192163843276865536131072262144\n"
     ]
    }
   ],
   "source": [
    "def dell(x, n):\n",
    "    if x % 2 == 1:\n",
    "        return n\n",
    "    else:\n",
    "        return dell(x // 2, n + 1)\n",
    "\n",
    "a = [int(''.join([str(2 ** j) for j in range(i)])) for i in range(1, 20)]\n",
    "\n",
    "for i in a:\n",
    "    print(dell(i,0), i)"
   ]
  },
  {
   "cell_type": "code",
   "execution_count": 11,
   "metadata": {},
   "outputs": [
    {
     "data": {
      "text/plain": [
       "0"
      ]
     },
     "execution_count": 11,
     "metadata": {},
     "output_type": "execute_result"
    }
   ],
   "source": [
    "a[-1] % b"
   ]
  },
  {
   "cell_type": "code",
   "execution_count": 10,
   "metadata": {
    "collapsed": true
   },
   "outputs": [],
   "source": [
    "b = pow(2,2017)"
   ]
  },
  {
   "cell_type": "code",
   "execution_count": 19,
   "metadata": {},
   "outputs": [
    {
     "name": "stdout",
     "output_type": "stream",
     "text": [
      "1 4 2.0\n",
      "2 225 15.0\n",
      "3 3160 56.213877290220786\n",
      "4 21505 146.64583185348297\n",
      "5 96876 311.2490963842305\n",
      "6 334369 578.2464872353312\n",
      "7 958000 978.7747442593725\n",
      "8 2392065 1546.6302079036216\n",
      "9 5373460 2318.0724751396365\n",
      "10 11100001 3331.6663998665895\n"
     ]
    }
   ],
   "source": [
    "for i in range(1,11):\n",
    "    print(i,i**7+i**6+i**5+1,(i**7+i**6+i**5+1)**0.5 )"
   ]
  },
  {
   "cell_type": "code",
   "execution_count": 2,
   "metadata": {},
   "outputs": [
    {
     "name": "stdout",
     "output_type": "stream",
     "text": [
      "0 1\n",
      "1 2\n",
      "4 4\n",
      "9 8\n",
      "16 16\n",
      "25 32\n",
      "36 64\n",
      "49 128\n",
      "64 256\n",
      "81 512\n",
      "100 1024\n",
      "121 2048\n",
      "144 4096\n",
      "169 8192\n",
      "196 16384\n",
      "225 32768\n",
      "256 65536\n",
      "289 131072\n",
      "324 262144\n",
      "361 524288\n",
      "400 1048576\n",
      "441 2097152\n",
      "484 4194304\n",
      "529 8388608\n",
      "576 16777216\n",
      "625 33554432\n",
      "676 67108864\n",
      "729 134217728\n",
      "784 268435456\n",
      "841 536870912\n",
      "900 1073741824\n",
      "961 2147483648\n",
      "1024 4294967296\n",
      "1089 8589934592\n",
      "1156 17179869184\n",
      "1225 34359738368\n",
      "1296 68719476736\n",
      "1369 137438953472\n",
      "1444 274877906944\n",
      "1521 549755813888\n",
      "1600 1099511627776\n",
      "1681 2199023255552\n",
      "1764 4398046511104\n",
      "1849 8796093022208\n",
      "1936 17592186044416\n",
      "2025 35184372088832\n",
      "2116 70368744177664\n",
      "2209 140737488355328\n",
      "2304 281474976710656\n",
      "2401 562949953421312\n",
      "2500 1125899906842624\n",
      "2601 2251799813685248\n",
      "2704 4503599627370496\n",
      "2809 9007199254740992\n",
      "2916 18014398509481984\n",
      "3025 36028797018963968\n",
      "3136 72057594037927936\n",
      "3249 144115188075855872\n",
      "3364 288230376151711744\n",
      "3481 576460752303423488\n",
      "3600 1152921504606846976\n",
      "3721 2305843009213693952\n",
      "3844 4611686018427387904\n",
      "3969 9223372036854775808\n",
      "4096 18446744073709551616\n",
      "4225 36893488147419103232\n",
      "4356 73786976294838206464\n",
      "4489 147573952589676412928\n",
      "4624 295147905179352825856\n",
      "4761 590295810358705651712\n",
      "4900 1180591620717411303424\n",
      "5041 2361183241434822606848\n",
      "5184 4722366482869645213696\n",
      "5329 9444732965739290427392\n",
      "5476 18889465931478580854784\n",
      "5625 37778931862957161709568\n",
      "5776 75557863725914323419136\n",
      "5929 151115727451828646838272\n",
      "6084 302231454903657293676544\n",
      "6241 604462909807314587353088\n",
      "6400 1208925819614629174706176\n",
      "6561 2417851639229258349412352\n",
      "6724 4835703278458516698824704\n",
      "6889 9671406556917033397649408\n",
      "7056 19342813113834066795298816\n",
      "7225 38685626227668133590597632\n",
      "7396 77371252455336267181195264\n",
      "7569 154742504910672534362390528\n",
      "7744 309485009821345068724781056\n",
      "7921 618970019642690137449562112\n",
      "8100 1237940039285380274899124224\n",
      "8281 2475880078570760549798248448\n",
      "8464 4951760157141521099596496896\n",
      "8649 9903520314283042199192993792\n",
      "8836 19807040628566084398385987584\n",
      "9025 39614081257132168796771975168\n",
      "9216 79228162514264337593543950336\n",
      "9409 158456325028528675187087900672\n",
      "9604 316912650057057350374175801344\n",
      "9801 633825300114114700748351602688\n",
      "10000 1267650600228229401496703205376\n"
     ]
    }
   ],
   "source": [
    "for i in range(101):\n",
    "    print(i**2, 2**i)"
   ]
  },
  {
   "cell_type": "code",
   "execution_count": 5,
   "metadata": {},
   "outputs": [
    {
     "data": {
      "text/plain": [
       "91"
      ]
     },
     "execution_count": 5,
     "metadata": {},
     "output_type": "execute_result"
    }
   ],
   "source": [
    "a = 273//3\n",
    "a"
   ]
  },
  {
   "cell_type": "code",
   "execution_count": 6,
   "metadata": {},
   "outputs": [
    {
     "data": {
      "text/plain": [
       "13"
      ]
     },
     "execution_count": 6,
     "metadata": {},
     "output_type": "execute_result"
    }
   ],
   "source": [
    "91//7"
   ]
  },
  {
   "cell_type": "code",
   "execution_count": 7,
   "metadata": {},
   "outputs": [
    {
     "data": {
      "text/plain": [
       "91"
      ]
     },
     "execution_count": 7,
     "metadata": {},
     "output_type": "execute_result"
    }
   ],
   "source": [
    "13*7"
   ]
  },
  {
   "cell_type": "code",
   "execution_count": null,
   "metadata": {
    "collapsed": true
   },
   "outputs": [],
   "source": []
  }
 ],
 "metadata": {
  "kernelspec": {
   "display_name": "Python 3",
   "language": "python",
   "name": "python3"
  },
  "language_info": {
   "codemirror_mode": {
    "name": "ipython",
    "version": 3
   },
   "file_extension": ".py",
   "mimetype": "text/x-python",
   "name": "python",
   "nbconvert_exporter": "python",
   "pygments_lexer": "ipython3",
   "version": "3.6.3"
  }
 },
 "nbformat": 4,
 "nbformat_minor": 2
}
